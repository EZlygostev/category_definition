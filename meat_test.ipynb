{
  "cells": [
    {
      "cell_type": "code",
      "execution_count": null,
      "metadata": {
        "colab": {
          "base_uri": "https://localhost:8080/"
        },
        "id": "V-V3ZCHe5oy_",
        "outputId": "5bcc6662-29d2-4150-8b26-f580ce243a9f"
      },
      "outputs": [
        {
          "output_type": "stream",
          "name": "stdout",
          "text": [
            "Collecting transformers\n",
            "  Downloading transformers-4.33.0-py3-none-any.whl (7.6 MB)\n",
            "\u001b[2K     \u001b[90m━━━━━━━━━━━━━━━━━━━━━━━━━━━━━━━━━━━━━━━━\u001b[0m \u001b[32m7.6/7.6 MB\u001b[0m \u001b[31m18.6 MB/s\u001b[0m eta \u001b[36m0:00:00\u001b[0m\n",
            "\u001b[?25hCollecting catboost\n",
            "  Downloading catboost-1.2.1-cp310-cp310-manylinux2014_x86_64.whl (98.7 MB)\n",
            "\u001b[2K     \u001b[90m━━━━━━━━━━━━━━━━━━━━━━━━━━━━━━━━━━━━━━━━\u001b[0m \u001b[32m98.7/98.7 MB\u001b[0m \u001b[31m10.6 MB/s\u001b[0m eta \u001b[36m0:00:00\u001b[0m\n",
            "\u001b[?25hRequirement already satisfied: filelock in /usr/local/lib/python3.10/dist-packages (from transformers) (3.12.2)\n",
            "Collecting huggingface-hub<1.0,>=0.15.1 (from transformers)\n",
            "  Downloading huggingface_hub-0.16.4-py3-none-any.whl (268 kB)\n",
            "\u001b[2K     \u001b[90m━━━━━━━━━━━━━━━━━━━━━━━━━━━━━━━━━━━━━━\u001b[0m \u001b[32m268.8/268.8 kB\u001b[0m \u001b[31m38.8 MB/s\u001b[0m eta \u001b[36m0:00:00\u001b[0m\n",
            "\u001b[?25hRequirement already satisfied: numpy>=1.17 in /usr/local/lib/python3.10/dist-packages (from transformers) (1.23.5)\n",
            "Requirement already satisfied: packaging>=20.0 in /usr/local/lib/python3.10/dist-packages (from transformers) (23.1)\n",
            "Requirement already satisfied: pyyaml>=5.1 in /usr/local/lib/python3.10/dist-packages (from transformers) (6.0.1)\n",
            "Requirement already satisfied: regex!=2019.12.17 in /usr/local/lib/python3.10/dist-packages (from transformers) (2023.6.3)\n",
            "Requirement already satisfied: requests in /usr/local/lib/python3.10/dist-packages (from transformers) (2.31.0)\n",
            "Collecting tokenizers!=0.11.3,<0.14,>=0.11.1 (from transformers)\n",
            "  Downloading tokenizers-0.13.3-cp310-cp310-manylinux_2_17_x86_64.manylinux2014_x86_64.whl (7.8 MB)\n",
            "\u001b[2K     \u001b[90m━━━━━━━━━━━━━━━━━━━━━━━━━━━━━━━━━━━━━━━━\u001b[0m \u001b[32m7.8/7.8 MB\u001b[0m \u001b[31m114.5 MB/s\u001b[0m eta \u001b[36m0:00:00\u001b[0m\n",
            "\u001b[?25hCollecting safetensors>=0.3.1 (from transformers)\n",
            "  Downloading safetensors-0.3.3-cp310-cp310-manylinux_2_17_x86_64.manylinux2014_x86_64.whl (1.3 MB)\n",
            "\u001b[2K     \u001b[90m━━━━━━━━━━━━━━━━━━━━━━━━━━━━━━━━━━━━━━━━\u001b[0m \u001b[32m1.3/1.3 MB\u001b[0m \u001b[31m84.7 MB/s\u001b[0m eta \u001b[36m0:00:00\u001b[0m\n",
            "\u001b[?25hRequirement already satisfied: tqdm>=4.27 in /usr/local/lib/python3.10/dist-packages (from transformers) (4.66.1)\n",
            "Requirement already satisfied: graphviz in /usr/local/lib/python3.10/dist-packages (from catboost) (0.20.1)\n",
            "Requirement already satisfied: matplotlib in /usr/local/lib/python3.10/dist-packages (from catboost) (3.7.1)\n",
            "Requirement already satisfied: pandas>=0.24 in /usr/local/lib/python3.10/dist-packages (from catboost) (1.5.3)\n",
            "Requirement already satisfied: scipy in /usr/local/lib/python3.10/dist-packages (from catboost) (1.10.1)\n",
            "Requirement already satisfied: plotly in /usr/local/lib/python3.10/dist-packages (from catboost) (5.15.0)\n",
            "Requirement already satisfied: six in /usr/local/lib/python3.10/dist-packages (from catboost) (1.16.0)\n",
            "Requirement already satisfied: fsspec in /usr/local/lib/python3.10/dist-packages (from huggingface-hub<1.0,>=0.15.1->transformers) (2023.6.0)\n",
            "Requirement already satisfied: typing-extensions>=3.7.4.3 in /usr/local/lib/python3.10/dist-packages (from huggingface-hub<1.0,>=0.15.1->transformers) (4.7.1)\n",
            "Requirement already satisfied: python-dateutil>=2.8.1 in /usr/local/lib/python3.10/dist-packages (from pandas>=0.24->catboost) (2.8.2)\n",
            "Requirement already satisfied: pytz>=2020.1 in /usr/local/lib/python3.10/dist-packages (from pandas>=0.24->catboost) (2023.3)\n",
            "Requirement already satisfied: contourpy>=1.0.1 in /usr/local/lib/python3.10/dist-packages (from matplotlib->catboost) (1.1.0)\n",
            "Requirement already satisfied: cycler>=0.10 in /usr/local/lib/python3.10/dist-packages (from matplotlib->catboost) (0.11.0)\n",
            "Requirement already satisfied: fonttools>=4.22.0 in /usr/local/lib/python3.10/dist-packages (from matplotlib->catboost) (4.42.1)\n",
            "Requirement already satisfied: kiwisolver>=1.0.1 in /usr/local/lib/python3.10/dist-packages (from matplotlib->catboost) (1.4.4)\n",
            "Requirement already satisfied: pillow>=6.2.0 in /usr/local/lib/python3.10/dist-packages (from matplotlib->catboost) (9.4.0)\n",
            "Requirement already satisfied: pyparsing>=2.3.1 in /usr/local/lib/python3.10/dist-packages (from matplotlib->catboost) (3.1.1)\n",
            "Requirement already satisfied: tenacity>=6.2.0 in /usr/local/lib/python3.10/dist-packages (from plotly->catboost) (8.2.3)\n",
            "Requirement already satisfied: charset-normalizer<4,>=2 in /usr/local/lib/python3.10/dist-packages (from requests->transformers) (3.2.0)\n",
            "Requirement already satisfied: idna<4,>=2.5 in /usr/local/lib/python3.10/dist-packages (from requests->transformers) (3.4)\n",
            "Requirement already satisfied: urllib3<3,>=1.21.1 in /usr/local/lib/python3.10/dist-packages (from requests->transformers) (2.0.4)\n",
            "Requirement already satisfied: certifi>=2017.4.17 in /usr/local/lib/python3.10/dist-packages (from requests->transformers) (2023.7.22)\n",
            "Installing collected packages: tokenizers, safetensors, huggingface-hub, transformers, catboost\n",
            "Successfully installed catboost-1.2.1 huggingface-hub-0.16.4 safetensors-0.3.3 tokenizers-0.13.3 transformers-4.33.0\n"
          ]
        }
      ],
      "source": [
        "!pip install transformers catboost"
      ]
    },
    {
      "cell_type": "markdown",
      "metadata": {
        "id": "mSjhZwPj5hD9"
      },
      "source": [
        "# Опеределение вида продукции по его описанию."
      ]
    },
    {
      "cell_type": "markdown",
      "source": [
        "**Цель:** cоздать модель, обрабатывающую фрагмент текста и определяющую\n",
        "какой вид продукции в нём содержится."
      ],
      "metadata": {
        "id": "x78wrHH_OhVX"
      }
    },
    {
      "cell_type": "markdown",
      "source": [
        "**Условия:**\n",
        "\n",
        "\n",
        "*   Фреймворк PyTorch\n",
        "*   Использовать для обучения записи имеющие не менее 500 позици целевого признака\n",
        "* Разделение тестовой и тренировочной выборок 20% \\ 80%\n",
        "\n"
      ],
      "metadata": {
        "id": "yt9V7f7DO2F7"
      }
    },
    {
      "cell_type": "markdown",
      "metadata": {
        "id": "t_DIGO_n5hEB"
      },
      "source": [
        "## Загрузка и анализ датасета:"
      ]
    },
    {
      "cell_type": "code",
      "execution_count": null,
      "metadata": {
        "id": "Y5GSBlNp5hEC"
      },
      "outputs": [],
      "source": [
        "import os\n",
        "import io\n",
        "import urllib3\n",
        "import requests\n",
        "import transformers\n",
        "import pandas as pd\n",
        "import numpy as np\n",
        "import torch\n",
        "from matplotlib import pyplot as plt\n",
        "from sklearn.model_selection import train_test_split\n",
        "from catboost import CatBoostClassifier\n",
        "from sklearn.metrics import f1_score, roc_auc_score, roc_curve\n",
        "from numpy.random import RandomState\n",
        "\n",
        "random_state = RandomState(12345)"
      ]
    },
    {
      "cell_type": "code",
      "execution_count": null,
      "metadata": {
        "id": "dfZyABoo6J7l",
        "colab": {
          "base_uri": "https://localhost:8080/"
        },
        "outputId": "50367bdf-5965-4164-f95b-7d0870544984"
      },
      "outputs": [
        {
          "output_type": "stream",
          "name": "stdout",
          "text": [
            "Drive already mounted at /content/drive; to attempt to forcibly remount, call drive.mount(\"/content/drive\", force_remount=True).\n"
          ]
        }
      ],
      "source": [
        "from google.colab import drive\n",
        "drive.mount('/content/drive')"
      ]
    },
    {
      "cell_type": "code",
      "execution_count": null,
      "metadata": {
        "id": "QEgtSt6L5hED"
      },
      "outputs": [],
      "source": [
        "data = pd.read_csv('/content/drive/MyDrive/datasets/meatinfo.csv', sep = ';')\n",
        "data.columns=['text', 'category']"
      ]
    },
    {
      "cell_type": "code",
      "execution_count": null,
      "metadata": {
        "id": "JK-m3E345hED",
        "colab": {
          "base_uri": "https://localhost:8080/"
        },
        "outputId": "7a8d9af4-3160-4613-cd3b-5e07b5fedfd7"
      },
      "outputs": [
        {
          "output_type": "execute_result",
          "data": {
            "text/plain": [
              "text        0\n",
              "category    1\n",
              "dtype: int64"
            ]
          },
          "metadata": {},
          "execution_count": 5
        }
      ],
      "source": [
        "data.isna().sum()"
      ]
    },
    {
      "cell_type": "markdown",
      "metadata": {
        "id": "nO3-oHug5hEE"
      },
      "source": [
        "#### Пропусков нет! Произведем отбор категорий по заданию заказчика, где для обучения будут использованы категории, записей которых в датасете не менее 500."
      ]
    },
    {
      "cell_type": "code",
      "execution_count": null,
      "metadata": {
        "id": "8iJy94z25hEE",
        "colab": {
          "base_uri": "https://localhost:8080/",
          "height": 363
        },
        "outputId": "f55e9697-1abc-4e28-b74e-6dca84526a5c"
      },
      "outputs": [
        {
          "output_type": "execute_result",
          "data": {
            "text/plain": [
              "                                                    text  category\n",
              "2679          Баранина, корейка, 4-5 ребра цена 350 руб.  Баранина\n",
              "292         Говядина, бедро, внешняя часть цена 550 руб.  Говядина\n",
              "10480  Качественное мясо в Москве    Отличное, качест...  Говядина\n",
              "8444                Говядина, язык, зачищ. цена 600 руб.  Говядина\n",
              "13328  Мясо гуся - тушка ГУСИНОЕ МЯСО тушкой продаем ...      Гусь\n",
              "5632   Быки +95 245 руб охл Беларуссия Говядина, полу...  Говядина\n",
              "689                                       вырезка свиная   Свинина\n",
              "5405                            Говядина подбедерок гост  Говядина\n",
              "14577  Окорок свиной б/к б/ш   Полный ассортимент мяс...   Свинина\n",
              "8255                Говядина, шкура, коровы цена 70 руб.  Говядина"
            ],
            "text/html": [
              "\n",
              "  <div id=\"df-717def76-3281-42f1-91e5-725197b81155\" class=\"colab-df-container\">\n",
              "    <div>\n",
              "<style scoped>\n",
              "    .dataframe tbody tr th:only-of-type {\n",
              "        vertical-align: middle;\n",
              "    }\n",
              "\n",
              "    .dataframe tbody tr th {\n",
              "        vertical-align: top;\n",
              "    }\n",
              "\n",
              "    .dataframe thead th {\n",
              "        text-align: right;\n",
              "    }\n",
              "</style>\n",
              "<table border=\"1\" class=\"dataframe\">\n",
              "  <thead>\n",
              "    <tr style=\"text-align: right;\">\n",
              "      <th></th>\n",
              "      <th>text</th>\n",
              "      <th>category</th>\n",
              "    </tr>\n",
              "  </thead>\n",
              "  <tbody>\n",
              "    <tr>\n",
              "      <th>2679</th>\n",
              "      <td>Баранина, корейка, 4-5 ребра цена 350 руб.</td>\n",
              "      <td>Баранина</td>\n",
              "    </tr>\n",
              "    <tr>\n",
              "      <th>292</th>\n",
              "      <td>Говядина, бедро, внешняя часть цена 550 руб.</td>\n",
              "      <td>Говядина</td>\n",
              "    </tr>\n",
              "    <tr>\n",
              "      <th>10480</th>\n",
              "      <td>Качественное мясо в Москве    Отличное, качест...</td>\n",
              "      <td>Говядина</td>\n",
              "    </tr>\n",
              "    <tr>\n",
              "      <th>8444</th>\n",
              "      <td>Говядина, язык, зачищ. цена 600 руб.</td>\n",
              "      <td>Говядина</td>\n",
              "    </tr>\n",
              "    <tr>\n",
              "      <th>13328</th>\n",
              "      <td>Мясо гуся - тушка ГУСИНОЕ МЯСО тушкой продаем ...</td>\n",
              "      <td>Гусь</td>\n",
              "    </tr>\n",
              "    <tr>\n",
              "      <th>5632</th>\n",
              "      <td>Быки +95 245 руб охл Беларуссия Говядина, полу...</td>\n",
              "      <td>Говядина</td>\n",
              "    </tr>\n",
              "    <tr>\n",
              "      <th>689</th>\n",
              "      <td>вырезка свиная</td>\n",
              "      <td>Свинина</td>\n",
              "    </tr>\n",
              "    <tr>\n",
              "      <th>5405</th>\n",
              "      <td>Говядина подбедерок гост</td>\n",
              "      <td>Говядина</td>\n",
              "    </tr>\n",
              "    <tr>\n",
              "      <th>14577</th>\n",
              "      <td>Окорок свиной б/к б/ш   Полный ассортимент мяс...</td>\n",
              "      <td>Свинина</td>\n",
              "    </tr>\n",
              "    <tr>\n",
              "      <th>8255</th>\n",
              "      <td>Говядина, шкура, коровы цена 70 руб.</td>\n",
              "      <td>Говядина</td>\n",
              "    </tr>\n",
              "  </tbody>\n",
              "</table>\n",
              "</div>\n",
              "    <div class=\"colab-df-buttons\">\n",
              "\n",
              "  <div class=\"colab-df-container\">\n",
              "    <button class=\"colab-df-convert\" onclick=\"convertToInteractive('df-717def76-3281-42f1-91e5-725197b81155')\"\n",
              "            title=\"Convert this dataframe to an interactive table.\"\n",
              "            style=\"display:none;\">\n",
              "\n",
              "  <svg xmlns=\"http://www.w3.org/2000/svg\" height=\"24px\" viewBox=\"0 -960 960 960\">\n",
              "    <path d=\"M120-120v-720h720v720H120Zm60-500h600v-160H180v160Zm220 220h160v-160H400v160Zm0 220h160v-160H400v160ZM180-400h160v-160H180v160Zm440 0h160v-160H620v160ZM180-180h160v-160H180v160Zm440 0h160v-160H620v160Z\"/>\n",
              "  </svg>\n",
              "    </button>\n",
              "\n",
              "  <style>\n",
              "    .colab-df-container {\n",
              "      display:flex;\n",
              "      gap: 12px;\n",
              "    }\n",
              "\n",
              "    .colab-df-convert {\n",
              "      background-color: #E8F0FE;\n",
              "      border: none;\n",
              "      border-radius: 50%;\n",
              "      cursor: pointer;\n",
              "      display: none;\n",
              "      fill: #1967D2;\n",
              "      height: 32px;\n",
              "      padding: 0 0 0 0;\n",
              "      width: 32px;\n",
              "    }\n",
              "\n",
              "    .colab-df-convert:hover {\n",
              "      background-color: #E2EBFA;\n",
              "      box-shadow: 0px 1px 2px rgba(60, 64, 67, 0.3), 0px 1px 3px 1px rgba(60, 64, 67, 0.15);\n",
              "      fill: #174EA6;\n",
              "    }\n",
              "\n",
              "    .colab-df-buttons div {\n",
              "      margin-bottom: 4px;\n",
              "    }\n",
              "\n",
              "    [theme=dark] .colab-df-convert {\n",
              "      background-color: #3B4455;\n",
              "      fill: #D2E3FC;\n",
              "    }\n",
              "\n",
              "    [theme=dark] .colab-df-convert:hover {\n",
              "      background-color: #434B5C;\n",
              "      box-shadow: 0px 1px 3px 1px rgba(0, 0, 0, 0.15);\n",
              "      filter: drop-shadow(0px 1px 2px rgba(0, 0, 0, 0.3));\n",
              "      fill: #FFFFFF;\n",
              "    }\n",
              "  </style>\n",
              "\n",
              "    <script>\n",
              "      const buttonEl =\n",
              "        document.querySelector('#df-717def76-3281-42f1-91e5-725197b81155 button.colab-df-convert');\n",
              "      buttonEl.style.display =\n",
              "        google.colab.kernel.accessAllowed ? 'block' : 'none';\n",
              "\n",
              "      async function convertToInteractive(key) {\n",
              "        const element = document.querySelector('#df-717def76-3281-42f1-91e5-725197b81155');\n",
              "        const dataTable =\n",
              "          await google.colab.kernel.invokeFunction('convertToInteractive',\n",
              "                                                    [key], {});\n",
              "        if (!dataTable) return;\n",
              "\n",
              "        const docLinkHtml = 'Like what you see? Visit the ' +\n",
              "          '<a target=\"_blank\" href=https://colab.research.google.com/notebooks/data_table.ipynb>data table notebook</a>'\n",
              "          + ' to learn more about interactive tables.';\n",
              "        element.innerHTML = '';\n",
              "        dataTable['output_type'] = 'display_data';\n",
              "        await google.colab.output.renderOutput(dataTable, element);\n",
              "        const docLink = document.createElement('div');\n",
              "        docLink.innerHTML = docLinkHtml;\n",
              "        element.appendChild(docLink);\n",
              "      }\n",
              "    </script>\n",
              "  </div>\n",
              "\n",
              "\n",
              "<div id=\"df-d5a651cb-3ab3-4659-b850-335f34988174\">\n",
              "  <button class=\"colab-df-quickchart\" onclick=\"quickchart('df-d5a651cb-3ab3-4659-b850-335f34988174')\"\n",
              "            title=\"Suggest charts.\"\n",
              "            style=\"display:none;\">\n",
              "\n",
              "<svg xmlns=\"http://www.w3.org/2000/svg\" height=\"24px\"viewBox=\"0 0 24 24\"\n",
              "     width=\"24px\">\n",
              "    <g>\n",
              "        <path d=\"M19 3H5c-1.1 0-2 .9-2 2v14c0 1.1.9 2 2 2h14c1.1 0 2-.9 2-2V5c0-1.1-.9-2-2-2zM9 17H7v-7h2v7zm4 0h-2V7h2v10zm4 0h-2v-4h2v4z\"/>\n",
              "    </g>\n",
              "</svg>\n",
              "  </button>\n",
              "\n",
              "<style>\n",
              "  .colab-df-quickchart {\n",
              "      --bg-color: #E8F0FE;\n",
              "      --fill-color: #1967D2;\n",
              "      --hover-bg-color: #E2EBFA;\n",
              "      --hover-fill-color: #174EA6;\n",
              "      --disabled-fill-color: #AAA;\n",
              "      --disabled-bg-color: #DDD;\n",
              "  }\n",
              "\n",
              "  [theme=dark] .colab-df-quickchart {\n",
              "      --bg-color: #3B4455;\n",
              "      --fill-color: #D2E3FC;\n",
              "      --hover-bg-color: #434B5C;\n",
              "      --hover-fill-color: #FFFFFF;\n",
              "      --disabled-bg-color: #3B4455;\n",
              "      --disabled-fill-color: #666;\n",
              "  }\n",
              "\n",
              "  .colab-df-quickchart {\n",
              "    background-color: var(--bg-color);\n",
              "    border: none;\n",
              "    border-radius: 50%;\n",
              "    cursor: pointer;\n",
              "    display: none;\n",
              "    fill: var(--fill-color);\n",
              "    height: 32px;\n",
              "    padding: 0;\n",
              "    width: 32px;\n",
              "  }\n",
              "\n",
              "  .colab-df-quickchart:hover {\n",
              "    background-color: var(--hover-bg-color);\n",
              "    box-shadow: 0 1px 2px rgba(60, 64, 67, 0.3), 0 1px 3px 1px rgba(60, 64, 67, 0.15);\n",
              "    fill: var(--button-hover-fill-color);\n",
              "  }\n",
              "\n",
              "  .colab-df-quickchart-complete:disabled,\n",
              "  .colab-df-quickchart-complete:disabled:hover {\n",
              "    background-color: var(--disabled-bg-color);\n",
              "    fill: var(--disabled-fill-color);\n",
              "    box-shadow: none;\n",
              "  }\n",
              "\n",
              "  .colab-df-spinner {\n",
              "    border: 2px solid var(--fill-color);\n",
              "    border-color: transparent;\n",
              "    border-bottom-color: var(--fill-color);\n",
              "    animation:\n",
              "      spin 1s steps(1) infinite;\n",
              "  }\n",
              "\n",
              "  @keyframes spin {\n",
              "    0% {\n",
              "      border-color: transparent;\n",
              "      border-bottom-color: var(--fill-color);\n",
              "      border-left-color: var(--fill-color);\n",
              "    }\n",
              "    20% {\n",
              "      border-color: transparent;\n",
              "      border-left-color: var(--fill-color);\n",
              "      border-top-color: var(--fill-color);\n",
              "    }\n",
              "    30% {\n",
              "      border-color: transparent;\n",
              "      border-left-color: var(--fill-color);\n",
              "      border-top-color: var(--fill-color);\n",
              "      border-right-color: var(--fill-color);\n",
              "    }\n",
              "    40% {\n",
              "      border-color: transparent;\n",
              "      border-right-color: var(--fill-color);\n",
              "      border-top-color: var(--fill-color);\n",
              "    }\n",
              "    60% {\n",
              "      border-color: transparent;\n",
              "      border-right-color: var(--fill-color);\n",
              "    }\n",
              "    80% {\n",
              "      border-color: transparent;\n",
              "      border-right-color: var(--fill-color);\n",
              "      border-bottom-color: var(--fill-color);\n",
              "    }\n",
              "    90% {\n",
              "      border-color: transparent;\n",
              "      border-bottom-color: var(--fill-color);\n",
              "    }\n",
              "  }\n",
              "</style>\n",
              "\n",
              "  <script>\n",
              "    async function quickchart(key) {\n",
              "      const quickchartButtonEl =\n",
              "        document.querySelector('#' + key + ' button');\n",
              "      quickchartButtonEl.disabled = true;  // To prevent multiple clicks.\n",
              "      quickchartButtonEl.classList.add('colab-df-spinner');\n",
              "      try {\n",
              "        const charts = await google.colab.kernel.invokeFunction(\n",
              "            'suggestCharts', [key], {});\n",
              "      } catch (error) {\n",
              "        console.error('Error during call to suggestCharts:', error);\n",
              "      }\n",
              "      quickchartButtonEl.classList.remove('colab-df-spinner');\n",
              "      quickchartButtonEl.classList.add('colab-df-quickchart-complete');\n",
              "    }\n",
              "    (() => {\n",
              "      let quickchartButtonEl =\n",
              "        document.querySelector('#df-d5a651cb-3ab3-4659-b850-335f34988174 button');\n",
              "      quickchartButtonEl.style.display =\n",
              "        google.colab.kernel.accessAllowed ? 'block' : 'none';\n",
              "    })();\n",
              "  </script>\n",
              "</div>\n",
              "    </div>\n",
              "  </div>\n"
            ]
          },
          "metadata": {},
          "execution_count": 6
        }
      ],
      "source": [
        "data.sample(10)"
      ]
    },
    {
      "cell_type": "code",
      "execution_count": null,
      "metadata": {
        "id": "TboWScq-5hEF",
        "colab": {
          "base_uri": "https://localhost:8080/"
        },
        "outputId": "55012928-85df-4165-d2e2-6ea25f6dbfde"
      },
      "outputs": [
        {
          "output_type": "execute_result",
          "data": {
            "text/plain": [
              "['Говядина', 'Свинина', 'Кура', 'Индейка', 'Баранина', 'Цыпленок']"
            ]
          },
          "metadata": {},
          "execution_count": 7
        }
      ],
      "source": [
        "list_category = list((data['category'].value_counts()[data['category'].value_counts()>=500]).index)\n",
        "list_category"
      ]
    },
    {
      "cell_type": "code",
      "execution_count": null,
      "metadata": {
        "id": "8GTBTqVz5hEF"
      },
      "outputs": [],
      "source": [
        "data_total = data[data['category'].isin(list_category)]"
      ]
    },
    {
      "cell_type": "code",
      "execution_count": null,
      "metadata": {
        "id": "sbBv_z075hEG",
        "colab": {
          "base_uri": "https://localhost:8080/",
          "height": 206
        },
        "outputId": "0ddc687a-81f8-40f5-a619-8d323f823f6e"
      },
      "outputs": [
        {
          "output_type": "execute_result",
          "data": {
            "text/plain": [
              "                                                    text  category\n",
              "1919   Грудка цыпленка бройлера подложка Реализуем Гр...  Цыпленок\n",
              "14659             Окорок свиной Окорок зач,охл, 1шт=10кг   Свинина\n",
              "4045           Говядина, мясо, односортное цена 229 руб.  Говядина\n",
              "16218  Суповой набор говяжий от 32 руб.кг Суповой наб...  Говядина\n",
              "1604                Баранина, грудинка, нк цена 175 руб.  Баранина"
            ],
            "text/html": [
              "\n",
              "  <div id=\"df-7c42f87c-b3ea-4dd3-b1f0-d7d743a3dcb1\" class=\"colab-df-container\">\n",
              "    <div>\n",
              "<style scoped>\n",
              "    .dataframe tbody tr th:only-of-type {\n",
              "        vertical-align: middle;\n",
              "    }\n",
              "\n",
              "    .dataframe tbody tr th {\n",
              "        vertical-align: top;\n",
              "    }\n",
              "\n",
              "    .dataframe thead th {\n",
              "        text-align: right;\n",
              "    }\n",
              "</style>\n",
              "<table border=\"1\" class=\"dataframe\">\n",
              "  <thead>\n",
              "    <tr style=\"text-align: right;\">\n",
              "      <th></th>\n",
              "      <th>text</th>\n",
              "      <th>category</th>\n",
              "    </tr>\n",
              "  </thead>\n",
              "  <tbody>\n",
              "    <tr>\n",
              "      <th>1919</th>\n",
              "      <td>Грудка цыпленка бройлера подложка Реализуем Гр...</td>\n",
              "      <td>Цыпленок</td>\n",
              "    </tr>\n",
              "    <tr>\n",
              "      <th>14659</th>\n",
              "      <td>Окорок свиной Окорок зач,охл, 1шт=10кг</td>\n",
              "      <td>Свинина</td>\n",
              "    </tr>\n",
              "    <tr>\n",
              "      <th>4045</th>\n",
              "      <td>Говядина, мясо, односортное цена 229 руб.</td>\n",
              "      <td>Говядина</td>\n",
              "    </tr>\n",
              "    <tr>\n",
              "      <th>16218</th>\n",
              "      <td>Суповой набор говяжий от 32 руб.кг Суповой наб...</td>\n",
              "      <td>Говядина</td>\n",
              "    </tr>\n",
              "    <tr>\n",
              "      <th>1604</th>\n",
              "      <td>Баранина, грудинка, нк цена 175 руб.</td>\n",
              "      <td>Баранина</td>\n",
              "    </tr>\n",
              "  </tbody>\n",
              "</table>\n",
              "</div>\n",
              "    <div class=\"colab-df-buttons\">\n",
              "\n",
              "  <div class=\"colab-df-container\">\n",
              "    <button class=\"colab-df-convert\" onclick=\"convertToInteractive('df-7c42f87c-b3ea-4dd3-b1f0-d7d743a3dcb1')\"\n",
              "            title=\"Convert this dataframe to an interactive table.\"\n",
              "            style=\"display:none;\">\n",
              "\n",
              "  <svg xmlns=\"http://www.w3.org/2000/svg\" height=\"24px\" viewBox=\"0 -960 960 960\">\n",
              "    <path d=\"M120-120v-720h720v720H120Zm60-500h600v-160H180v160Zm220 220h160v-160H400v160Zm0 220h160v-160H400v160ZM180-400h160v-160H180v160Zm440 0h160v-160H620v160ZM180-180h160v-160H180v160Zm440 0h160v-160H620v160Z\"/>\n",
              "  </svg>\n",
              "    </button>\n",
              "\n",
              "  <style>\n",
              "    .colab-df-container {\n",
              "      display:flex;\n",
              "      gap: 12px;\n",
              "    }\n",
              "\n",
              "    .colab-df-convert {\n",
              "      background-color: #E8F0FE;\n",
              "      border: none;\n",
              "      border-radius: 50%;\n",
              "      cursor: pointer;\n",
              "      display: none;\n",
              "      fill: #1967D2;\n",
              "      height: 32px;\n",
              "      padding: 0 0 0 0;\n",
              "      width: 32px;\n",
              "    }\n",
              "\n",
              "    .colab-df-convert:hover {\n",
              "      background-color: #E2EBFA;\n",
              "      box-shadow: 0px 1px 2px rgba(60, 64, 67, 0.3), 0px 1px 3px 1px rgba(60, 64, 67, 0.15);\n",
              "      fill: #174EA6;\n",
              "    }\n",
              "\n",
              "    .colab-df-buttons div {\n",
              "      margin-bottom: 4px;\n",
              "    }\n",
              "\n",
              "    [theme=dark] .colab-df-convert {\n",
              "      background-color: #3B4455;\n",
              "      fill: #D2E3FC;\n",
              "    }\n",
              "\n",
              "    [theme=dark] .colab-df-convert:hover {\n",
              "      background-color: #434B5C;\n",
              "      box-shadow: 0px 1px 3px 1px rgba(0, 0, 0, 0.15);\n",
              "      filter: drop-shadow(0px 1px 2px rgba(0, 0, 0, 0.3));\n",
              "      fill: #FFFFFF;\n",
              "    }\n",
              "  </style>\n",
              "\n",
              "    <script>\n",
              "      const buttonEl =\n",
              "        document.querySelector('#df-7c42f87c-b3ea-4dd3-b1f0-d7d743a3dcb1 button.colab-df-convert');\n",
              "      buttonEl.style.display =\n",
              "        google.colab.kernel.accessAllowed ? 'block' : 'none';\n",
              "\n",
              "      async function convertToInteractive(key) {\n",
              "        const element = document.querySelector('#df-7c42f87c-b3ea-4dd3-b1f0-d7d743a3dcb1');\n",
              "        const dataTable =\n",
              "          await google.colab.kernel.invokeFunction('convertToInteractive',\n",
              "                                                    [key], {});\n",
              "        if (!dataTable) return;\n",
              "\n",
              "        const docLinkHtml = 'Like what you see? Visit the ' +\n",
              "          '<a target=\"_blank\" href=https://colab.research.google.com/notebooks/data_table.ipynb>data table notebook</a>'\n",
              "          + ' to learn more about interactive tables.';\n",
              "        element.innerHTML = '';\n",
              "        dataTable['output_type'] = 'display_data';\n",
              "        await google.colab.output.renderOutput(dataTable, element);\n",
              "        const docLink = document.createElement('div');\n",
              "        docLink.innerHTML = docLinkHtml;\n",
              "        element.appendChild(docLink);\n",
              "      }\n",
              "    </script>\n",
              "  </div>\n",
              "\n",
              "\n",
              "<div id=\"df-8f9f0e0e-0fad-456b-bea6-d347af3166e9\">\n",
              "  <button class=\"colab-df-quickchart\" onclick=\"quickchart('df-8f9f0e0e-0fad-456b-bea6-d347af3166e9')\"\n",
              "            title=\"Suggest charts.\"\n",
              "            style=\"display:none;\">\n",
              "\n",
              "<svg xmlns=\"http://www.w3.org/2000/svg\" height=\"24px\"viewBox=\"0 0 24 24\"\n",
              "     width=\"24px\">\n",
              "    <g>\n",
              "        <path d=\"M19 3H5c-1.1 0-2 .9-2 2v14c0 1.1.9 2 2 2h14c1.1 0 2-.9 2-2V5c0-1.1-.9-2-2-2zM9 17H7v-7h2v7zm4 0h-2V7h2v10zm4 0h-2v-4h2v4z\"/>\n",
              "    </g>\n",
              "</svg>\n",
              "  </button>\n",
              "\n",
              "<style>\n",
              "  .colab-df-quickchart {\n",
              "      --bg-color: #E8F0FE;\n",
              "      --fill-color: #1967D2;\n",
              "      --hover-bg-color: #E2EBFA;\n",
              "      --hover-fill-color: #174EA6;\n",
              "      --disabled-fill-color: #AAA;\n",
              "      --disabled-bg-color: #DDD;\n",
              "  }\n",
              "\n",
              "  [theme=dark] .colab-df-quickchart {\n",
              "      --bg-color: #3B4455;\n",
              "      --fill-color: #D2E3FC;\n",
              "      --hover-bg-color: #434B5C;\n",
              "      --hover-fill-color: #FFFFFF;\n",
              "      --disabled-bg-color: #3B4455;\n",
              "      --disabled-fill-color: #666;\n",
              "  }\n",
              "\n",
              "  .colab-df-quickchart {\n",
              "    background-color: var(--bg-color);\n",
              "    border: none;\n",
              "    border-radius: 50%;\n",
              "    cursor: pointer;\n",
              "    display: none;\n",
              "    fill: var(--fill-color);\n",
              "    height: 32px;\n",
              "    padding: 0;\n",
              "    width: 32px;\n",
              "  }\n",
              "\n",
              "  .colab-df-quickchart:hover {\n",
              "    background-color: var(--hover-bg-color);\n",
              "    box-shadow: 0 1px 2px rgba(60, 64, 67, 0.3), 0 1px 3px 1px rgba(60, 64, 67, 0.15);\n",
              "    fill: var(--button-hover-fill-color);\n",
              "  }\n",
              "\n",
              "  .colab-df-quickchart-complete:disabled,\n",
              "  .colab-df-quickchart-complete:disabled:hover {\n",
              "    background-color: var(--disabled-bg-color);\n",
              "    fill: var(--disabled-fill-color);\n",
              "    box-shadow: none;\n",
              "  }\n",
              "\n",
              "  .colab-df-spinner {\n",
              "    border: 2px solid var(--fill-color);\n",
              "    border-color: transparent;\n",
              "    border-bottom-color: var(--fill-color);\n",
              "    animation:\n",
              "      spin 1s steps(1) infinite;\n",
              "  }\n",
              "\n",
              "  @keyframes spin {\n",
              "    0% {\n",
              "      border-color: transparent;\n",
              "      border-bottom-color: var(--fill-color);\n",
              "      border-left-color: var(--fill-color);\n",
              "    }\n",
              "    20% {\n",
              "      border-color: transparent;\n",
              "      border-left-color: var(--fill-color);\n",
              "      border-top-color: var(--fill-color);\n",
              "    }\n",
              "    30% {\n",
              "      border-color: transparent;\n",
              "      border-left-color: var(--fill-color);\n",
              "      border-top-color: var(--fill-color);\n",
              "      border-right-color: var(--fill-color);\n",
              "    }\n",
              "    40% {\n",
              "      border-color: transparent;\n",
              "      border-right-color: var(--fill-color);\n",
              "      border-top-color: var(--fill-color);\n",
              "    }\n",
              "    60% {\n",
              "      border-color: transparent;\n",
              "      border-right-color: var(--fill-color);\n",
              "    }\n",
              "    80% {\n",
              "      border-color: transparent;\n",
              "      border-right-color: var(--fill-color);\n",
              "      border-bottom-color: var(--fill-color);\n",
              "    }\n",
              "    90% {\n",
              "      border-color: transparent;\n",
              "      border-bottom-color: var(--fill-color);\n",
              "    }\n",
              "  }\n",
              "</style>\n",
              "\n",
              "  <script>\n",
              "    async function quickchart(key) {\n",
              "      const quickchartButtonEl =\n",
              "        document.querySelector('#' + key + ' button');\n",
              "      quickchartButtonEl.disabled = true;  // To prevent multiple clicks.\n",
              "      quickchartButtonEl.classList.add('colab-df-spinner');\n",
              "      try {\n",
              "        const charts = await google.colab.kernel.invokeFunction(\n",
              "            'suggestCharts', [key], {});\n",
              "      } catch (error) {\n",
              "        console.error('Error during call to suggestCharts:', error);\n",
              "      }\n",
              "      quickchartButtonEl.classList.remove('colab-df-spinner');\n",
              "      quickchartButtonEl.classList.add('colab-df-quickchart-complete');\n",
              "    }\n",
              "    (() => {\n",
              "      let quickchartButtonEl =\n",
              "        document.querySelector('#df-8f9f0e0e-0fad-456b-bea6-d347af3166e9 button');\n",
              "      quickchartButtonEl.style.display =\n",
              "        google.colab.kernel.accessAllowed ? 'block' : 'none';\n",
              "    })();\n",
              "  </script>\n",
              "</div>\n",
              "    </div>\n",
              "  </div>\n"
            ]
          },
          "metadata": {},
          "execution_count": 9
        }
      ],
      "source": [
        "data_total.sample(5)"
      ]
    },
    {
      "cell_type": "code",
      "execution_count": null,
      "metadata": {
        "id": "s7Spckqp5hEG",
        "colab": {
          "base_uri": "https://localhost:8080/"
        },
        "outputId": "ed77c63a-fcef-470e-b60e-1ddd9c239cf1"
      },
      "outputs": [
        {
          "output_type": "stream",
          "name": "stdout",
          "text": [
            "Самое длинное описание составляет 35 символов\n"
          ]
        }
      ],
      "source": [
        "print(f'Самое длинное описание составляет {len(data_total[\"text\"].max())} символов')"
      ]
    },
    {
      "cell_type": "code",
      "execution_count": null,
      "metadata": {
        "id": "j4Sv3OAf5hEG",
        "colab": {
          "base_uri": "https://localhost:8080/",
          "height": 333
        },
        "outputId": "61fffcc3-ba64-4116-86f8-d73ebaf11740"
      },
      "outputs": [
        {
          "output_type": "execute_result",
          "data": {
            "text/plain": [
              "<BarContainer object of 6 artists>"
            ]
          },
          "metadata": {},
          "execution_count": 11
        },
        {
          "output_type": "display_data",
          "data": {
            "text/plain": [
              "<Figure size 1000x300 with 1 Axes>"
            ],
            "image/png": "[encoded data removed]"
          },
          "metadata": {}
        }
      ],
      "source": [
        "plt.figure(figsize=(10,3))\n",
        "plt.title('Категорий в датасете')\n",
        "plt.bar(x=list_category, height= data_total['category'].value_counts())"
      ]
    },
    {
      "cell_type": "markdown",
      "metadata": {
        "id": "6YGORRXF5hEG"
      },
      "source": [
        "#### При разделении на выбороки необходимо проконтроллировать, чтобы все категории попали в обучающую."
      ]
    },
    {
      "cell_type": "markdown",
      "metadata": {
        "id": "U2BoCg-_5hEH"
      },
      "source": [
        "## Эмбендинг PyTorch моделью BERT\n"
      ]
    },
    {
      "cell_type": "code",
      "execution_count": null,
      "metadata": {
        "id": "Gtw2Xt-85hEH"
      },
      "outputs": [],
      "source": [
        "tokenaizer = transformers.AutoTokenizer.from_pretrained('bert-base-uncased')\n",
        "if torch.cuda.is_available():\n",
        "  model = transformers.AutoModel.from_pretrained('bert-base-uncased').cuda()\n",
        "else:\n",
        "  model = transformers.AutoModel.from_pretrained('bert-base-uncased')"
      ]
    },
    {
      "cell_type": "code",
      "source": [
        "def get_token (data : pd.Series, max_: int):\n",
        "  features = data['text'].apply(lambda x: tokenaizer.encode(x, add_special_tokens=True)[:512])\n",
        "  features = np.array([x + [0]*(max_-len(x)) for x in features])\n",
        "  features_mask = np.where(features!=0, 1,0 )\n",
        "  return features, features_mask"
      ],
      "metadata": {
        "id": "o-ub0oL060hB"
      },
      "execution_count": null,
      "outputs": []
    },
    {
      "cell_type": "code",
      "source": [
        "def get_embending_feature(batch_size, features, features_mask):\n",
        "  embendings = []\n",
        "  for itter in range(features.shape[0]//batch_size):\n",
        "      if torch.cuda.is_available():\n",
        "        batch = torch.LongTensor(features[batch_size*itter:batch_size*(itter+1)]).cuda()\n",
        "        mask_batch = torch.LongTensor(features_mask[batch_size*itter:batch_size*(itter+1)]).cuda()\n",
        "      else:\n",
        "        batch = torch.LongTensor(features[batch_size*itter:batch_size*(itter+1)])\n",
        "        mask_batch = torch.LongTensor(features_mask[batch_size*itter:batch_size*(itter+1)])\n",
        "      with torch.no_grad():\n",
        "          batch_embending = model(batch, attention_mask = mask_batch)\n",
        "      embendings.append(batch_embending[0][:,0,:].cpu().numpy())\n",
        "  return np.concatenate(embendings)"
      ],
      "metadata": {
        "id": "9LlIy4tT7R1o"
      },
      "execution_count": null,
      "outputs": []
    },
    {
      "cell_type": "code",
      "source": [
        "features, features_mask = get_token(data_total, 512)\n"
      ],
      "metadata": {
        "id": "ymaApOCx6_Jn",
        "colab": {
          "base_uri": "https://localhost:8080/"
        },
        "outputId": "a1ea127a-d32f-4d64-f9c8-169b1b2fcf53"
      },
      "execution_count": null,
      "outputs": [
        {
          "output_type": "stream",
          "name": "stderr",
          "text": [
            "Token indices sequence length is longer than the specified maximum sequence length for this model (584 > 512). Running this sequence through the model will result in indexing errors\n"
          ]
        }
      ]
    },
    {
      "cell_type": "code",
      "execution_count": null,
      "metadata": {
        "id": "snwkZ9gbAZGq"
      },
      "outputs": [],
      "source": [
        "features_bert = get_embending_feature(300, features, features_mask)\n"
      ]
    },
    {
      "cell_type": "code",
      "source": [
        "features_bert"
      ],
      "metadata": {
        "id": "8f1kEOMEEnpp",
        "outputId": "dcbd31a4-9d08-46ce-894e-6ae98fe36343",
        "colab": {
          "base_uri": "https://localhost:8080/"
        }
      },
      "execution_count": null,
      "outputs": [
        {
          "output_type": "execute_result",
          "data": {
            "text/plain": [
              "array([[-0.6389789 , -0.00998683, -0.17822689, ..., -0.3681441 ,\n",
              "         0.32523924,  0.5541315 ],\n",
              "       [-0.6072172 ,  0.02577526, -0.18427771, ..., -0.2681933 ,\n",
              "         0.58904266,  0.66594964],\n",
              "       [-0.59320706,  0.00125905, -0.14843278, ..., -0.240804  ,\n",
              "         0.63262093,  0.667204  ],\n",
              "       ...,\n",
              "       [-0.69392323, -0.04900894, -0.07684537, ..., -0.23755117,\n",
              "         0.7405421 ,  0.47663382],\n",
              "       [-0.40156093,  0.01794798, -0.01236386, ..., -0.14208667,\n",
              "         0.6397354 ,  0.46648577],\n",
              "       [-0.59312356,  0.14421906, -0.2914429 , ..., -0.21458127,\n",
              "         0.7849555 ,  0.25710952]], dtype=float32)"
            ]
          },
          "metadata": {},
          "execution_count": 17
        }
      ]
    },
    {
      "cell_type": "code",
      "execution_count": null,
      "metadata": {
        "id": "0LKR_3shFsx4",
        "outputId": "d33d924f-d1f9-4c5d-fe63-88bd29311394",
        "colab": {
          "base_uri": "https://localhost:8080/"
        }
      },
      "outputs": [
        {
          "output_type": "execute_result",
          "data": {
            "text/plain": [
              "(16438,)"
            ]
          },
          "metadata": {},
          "execution_count": 18
        }
      ],
      "source": [
        "data_total['category'].shape"
      ]
    },
    {
      "cell_type": "code",
      "execution_count": null,
      "metadata": {
        "id": "GdBX50GHF5kh",
        "colab": {
          "base_uri": "https://localhost:8080/"
        },
        "outputId": "7276e1c3-6a07-4ab0-93a7-5f08c7aa70fe"
      },
      "outputs": [
        {
          "output_type": "execute_result",
          "data": {
            "text/plain": [
              "(16200, 768)"
            ]
          },
          "metadata": {},
          "execution_count": 19
        }
      ],
      "source": [
        "features_bert.shape"
      ]
    },
    {
      "cell_type": "code",
      "execution_count": null,
      "metadata": {
        "id": "j3OtxGdOF9Pw",
        "colab": {
          "base_uri": "https://localhost:8080/"
        },
        "outputId": "081df4ef-4d1d-4ae6-d2f3-386bfc16e3ee"
      },
      "outputs": [
        {
          "output_type": "execute_result",
          "data": {
            "text/plain": [
              "(16200,)"
            ]
          },
          "metadata": {},
          "execution_count": 20
        }
      ],
      "source": [
        "target_bert =  data_total['category'][:features_bert.shape[0]]\n",
        "target_bert.shape"
      ]
    },
    {
      "cell_type": "code",
      "execution_count": null,
      "metadata": {
        "id": "poiNoo9BH9tm"
      },
      "outputs": [],
      "source": [
        "target_train, target_test, features_train, features_test = train_test_split(target_bert, features_bert, test_size = 0.2, random_state = random_state)"
      ]
    },
    {
      "cell_type": "markdown",
      "source": [
        "### CatBosostClassifier model"
      ],
      "metadata": {
        "id": "Slk4AVKcmbiU"
      }
    },
    {
      "cell_type": "code",
      "source": [
        "if torch.cuda.is_available():\n",
        "  model_cat = CatBoostClassifier(eval_metric='AUC', verbose=100, task_type=\"GPU\",\n",
        "                            devices='0:1')\n",
        "else:\n",
        "  model_cat = CatBoostClassifier(eval_metric='AUC', verbose=100)"
      ],
      "metadata": {
        "id": "ZJQ-Z-A51Uv-"
      },
      "execution_count": null,
      "outputs": []
    },
    {
      "cell_type": "code",
      "source": [
        "model_cat.fit(features_train, target_train ,eval_set=(features_test, target_test), use_best_model=True)"
      ],
      "metadata": {
        "id": "LjUgxMlq1YXw",
        "colab": {
          "base_uri": "https://localhost:8080/"
        },
        "outputId": "302f27d5-7eeb-4f9d-a515-bab9dc34a768"
      },
      "execution_count": null,
      "outputs": [
        {
          "output_type": "stream",
          "name": "stderr",
          "text": [
            "Warning: less than 75% gpu memory available for training. Free: 3008.8125 Total: 15101.8125\n"
          ]
        },
        {
          "output_type": "stream",
          "name": "stdout",
          "text": [
            "Learning rate set to 0.136209\n"
          ]
        },
        {
          "output_type": "stream",
          "name": "stderr",
          "text": [
            "Default metric period is 5 because AUC is/are not implemented for GPU\n",
            "AUC is not implemented on GPU. Will use CPU for metric computation, this could significantly affect learning time\n"
          ]
        },
        {
          "output_type": "stream",
          "name": "stdout",
          "text": [
            "0:\ttest: 0.7390831\tbest: 0.7390831 (0)\ttotal: 66.6ms\tremaining: 1m 6s\n",
            "100:\ttest: 0.9312051\tbest: 0.9312051 (100)\ttotal: 5.83s\tremaining: 51.9s\n",
            "200:\ttest: 0.9457943\tbest: 0.9457943 (200)\ttotal: 8.52s\tremaining: 33.9s\n",
            "300:\ttest: 0.9527004\tbest: 0.9527004 (300)\ttotal: 11.2s\tremaining: 26.1s\n",
            "400:\ttest: 0.9554991\tbest: 0.9554991 (400)\ttotal: 13.9s\tremaining: 20.7s\n",
            "500:\ttest: 0.9580263\tbest: 0.9580263 (500)\ttotal: 17.7s\tremaining: 17.6s\n",
            "600:\ttest: 0.9591037\tbest: 0.9591743 (590)\ttotal: 22.1s\tremaining: 14.7s\n",
            "700:\ttest: 0.9601638\tbest: 0.9602168 (695)\ttotal: 24.7s\tremaining: 10.5s\n",
            "800:\ttest: 0.9617259\tbest: 0.9617259 (800)\ttotal: 27.4s\tremaining: 6.79s\n",
            "900:\ttest: 0.9627142\tbest: 0.9627142 (900)\ttotal: 29.9s\tremaining: 3.29s\n",
            "999:\ttest: 0.9627877\tbest: 0.9629448 (980)\ttotal: 35.8s\tremaining: 0us\n",
            "bestTest = 0.9629447673\n",
            "bestIteration = 980\n",
            "Shrink model to first 981 iterations.\n"
          ]
        },
        {
          "output_type": "execute_result",
          "data": {
            "text/plain": [
              "<catboost.core.CatBoostClassifier at 0x7f2d734c7490>"
            ]
          },
          "metadata": {},
          "execution_count": 25
        }
      ]
    },
    {
      "cell_type": "code",
      "source": [
        "predict = model_cat.predict_proba(features_test)"
      ],
      "metadata": {
        "id": "OdphksXr55nq"
      },
      "execution_count": null,
      "outputs": []
    },
    {
      "cell_type": "code",
      "source": [
        "roc_auc_score(target_test, predict, multi_class='ovr')"
      ],
      "metadata": {
        "id": "yk1jRDC76Emz",
        "colab": {
          "base_uri": "https://localhost:8080/"
        },
        "outputId": "60a29d2a-983b-42dc-eced-64bd333efd8b"
      },
      "execution_count": null,
      "outputs": [
        {
          "output_type": "execute_result",
          "data": {
            "text/plain": [
              "0.9581670668010666"
            ]
          },
          "metadata": {},
          "execution_count": 27
        }
      ]
    },
    {
      "cell_type": "markdown",
      "source": [
        "#### CatBoostClassifier дает отличный показатель метрики, после предообработки данных Bert моделью.\n"
      ],
      "metadata": {
        "id": "AXDVajAfB1s_"
      }
    },
    {
      "cell_type": "markdown",
      "source": [
        "## Тестирование модели"
      ],
      "metadata": {
        "id": "-MfrfwC5BvXQ"
      }
    },
    {
      "cell_type": "code",
      "source": [
        "pd_test = pd.DataFrame(data =\n",
        "        {'text':[\n",
        "                'Говядина блочная 2 сорт в наличии ООО “АгроСоюз” реализует блочную говядину 2 сорт (80/20)Свободный объем 8 тонн Самовывоз или доставка. Все подробности по телефону.',\n",
        "                'Куриная разделка Продам кур и куриную разделку гост и халяль по хорошей цене .Тел:',\n",
        "                'Говяжью мукозу Продам говяжью мукозу в охл и замороженном виде. Есть объем.'\n",
        "                ],\n",
        "         'mtype' : [\n",
        "            'Говядина',\n",
        "            'Кура',\n",
        "            'Говядина']})"
      ],
      "metadata": {
        "id": "syd4nlI7gliH"
      },
      "execution_count": null,
      "outputs": []
    },
    {
      "cell_type": "code",
      "source": [
        "f_t, f_t_mask = get_token(pd_test, max_=512)\n"
      ],
      "metadata": {
        "id": "q0k00W2UBybX"
      },
      "execution_count": null,
      "outputs": []
    },
    {
      "cell_type": "code",
      "source": [
        "f_t = get_embending_feature(3, f_t, f_t_mask)"
      ],
      "metadata": {
        "id": "qP6n2u6RHIfo"
      },
      "execution_count": null,
      "outputs": []
    },
    {
      "cell_type": "code",
      "source": [
        "model_cat.predict(f_t)"
      ],
      "metadata": {
        "id": "Y484tmoCH1qq",
        "colab": {
          "base_uri": "https://localhost:8080/"
        },
        "outputId": "6a84034d-5f48-46e4-9727-5f5c21418604"
      },
      "execution_count": null,
      "outputs": [
        {
          "output_type": "execute_result",
          "data": {
            "text/plain": [
              "array([['Говядина'],\n",
              "       ['Кура'],\n",
              "       ['Говядина']], dtype=object)"
            ]
          },
          "metadata": {},
          "execution_count": 63
        }
      ]
    },
    {
      "cell_type": "markdown",
      "source": [
        "<b> Тест модели пройден успешно."
      ],
      "metadata": {
        "id": "HeBepkQkIZ63"
      }
    },
    {
      "cell_type": "markdown",
      "source": [
        "## Вывод:"
      ],
      "metadata": {
        "id": "-Phc1zugOaZc"
      }
    },
    {
      "cell_type": "markdown",
      "source": [
        "Для решения задачи была использована связка двух моделей:\n",
        "* BERT\n",
        "* CatBoostClassifier\n",
        "\n",
        "Достигнута метрика ROC AUC более 0.9, что считается отличным результатом для модели.\n",
        "На образцах модель также верно определила классификацию текста."
      ],
      "metadata": {
        "id": "kyQsTUJmOb3k"
      }
    },
    {
      "cell_type": "markdown",
      "source": [
        "## Production"
      ],
      "metadata": {
        "id": "wuf_D0tWBk_x"
      }
    },
    {
      "cell_type": "code",
      "source": [
        "class ClassDefinition:\n",
        "    def __init__(self, url:str = None, path:str = None, column_text:str, column_target:str, sep:str) -> None:\n",
        "        if url:\n",
        "          resources_data = requests.get(url)\n",
        "          self.data = pd.read_csv(io.BytesIO(resources_data.content), sep=sep)\n",
        "        else:\n",
        "          self.data = pd.read_csv(path, sep=sep)\n",
        "        list_category = list((self.data[column_target].value_counts()[self.data[column_target].value_counts()>=500]).index)\n",
        "        self.data = self.data[self.data[column_target].isin(list_category)]\n",
        "        self.column_text = column_text\n",
        "        self.column_target = column_target\n",
        "        self.model_bert = transformers.AutoModel.from_pretrained('bert-base-uncased').cuda()\n",
        "        self.tokenaizer = transformers.AutoTokenizer.from_pretrained('bert-base-uncased')\n",
        "        self.catboost_classifier = CatBoostClassifier(eval_metric='AUC', verbose=100, task_type=\"GPU\",\n",
        "                            devices='0:1')\n",
        "\n",
        "    def get_token (self, max_: int) -> None:\n",
        "        self.features = self.data[self.column_text].apply(lambda x: self.tokenaizer.encode(x, add_special_tokens=True)[:512])\n",
        "        self.features = np.array([x + [0]*(max_-len(x)) for x in self.features])\n",
        "        self.features_mask = np.where(self.features!=0, 1,0 )\n",
        "\n",
        "\n",
        "    def get_embending_feature(self, batch_size: int) -> None:\n",
        "        embendings = []\n",
        "        for itter in range(self.features.shape[0]//batch_size):\n",
        "            batch = torch.LongTensor(self.features[batch_size*itter:batch_size*(itter+1)]).cuda()\n",
        "            mask_batch = torch.LongTensor(self.features_mask[batch_size*itter:batch_size*(itter+1)]).cuda()\n",
        "            with torch.no_grad():\n",
        "                batch_embending = self.model_bert(batch, attention_mask = mask_batch)\n",
        "            embendings.append(batch_embending[0][:,0,:].cpu().numpy())\n",
        "        self.features = np.concatenate(embendings)\n",
        "\n",
        "    def separate_sample(self, test_size: int) -> None:\n",
        "        self.target_train, \\\n",
        "        self.target_test, \\\n",
        "        self.features_train, \\\n",
        "        self.features_test = train_test_split(self.data[self.column_target][:self.features.shape[0]], self.features, test_size = test_size)\n",
        "\n",
        "    def train (self, max_: int, batch_size: int, test_size:int) -> None:\n",
        "        self.max_ = max_\n",
        "        self.get_token(self.max_)\n",
        "        self.get_embending_feature(batch_size)\n",
        "        self.separate_sample(test_size)\n",
        "        self.catboost_classifier.fit(self.features_train, self.target_train ,eval_set=(self.features_test, self.target_test), use_best_model=True)\n",
        "\n",
        "    def predict (self, url: str = None, path:str = None, sep:str = None):\n",
        "        if url:\n",
        "          resources_data = requests.get(url)\n",
        "          self.data = pd.read_csv(io.BytesIO(resources_data.content), sep=sep)\n",
        "        else:\n",
        "          self.data = pd.read_csv(path, sep=sep)\n",
        "        self.get_token(self.max_)\n",
        "        self.get_embending_feature(len(self.data[self.column_target]))\n",
        "        return self.catboost_classifier.predict(self.data[self.column_text])\n"
      ],
      "metadata": {
        "id": "By3yHEL4Biuz"
      },
      "execution_count": null,
      "outputs": []
    },
    {
      "cell_type": "code",
      "source": [
        "production = ClassDefinition('https://axe.inline-ltd.ru/data/meatinfo.csv','text', 'mtype', ';')"
      ],
      "metadata": {
        "id": "Bv7G4-0HB8zT"
      },
      "execution_count": null,
      "outputs": []
    },
    {
      "cell_type": "code",
      "source": [
        "production.data"
      ],
      "metadata": {
        "colab": {
          "base_uri": "https://localhost:8080/",
          "height": 424
        },
        "id": "3-LDnGFVDfzO",
        "outputId": "84b063ea-a593-4570-8e7f-654d2eeb6948"
      },
      "execution_count": null,
      "outputs": [
        {
          "output_type": "execute_result",
          "data": {
            "text/plain": [
              "                                                    text     mtype\n",
              "0                 12 частей баранина  12 частей баранина  Баранина\n",
              "1                Баранина, 12 частей, зам. цена 260 руб.  Баранина\n",
              "2                Баранина, 12 частей, зам. цена 315 руб.  Баранина\n",
              "3                              Баранина, 12 частей, охл.  Баранина\n",
              "4                Баранина, 12 частей, охл. цена 220 руб.  Баранина\n",
              "...                                                  ...       ...\n",
              "17816                       Цыпленок, четвертина, задняя  Цыпленок\n",
              "17817         Цыпленок, четвертина, задняя цена 100 руб.  Цыпленок\n",
              "17818  ЦБ Шеи п/ф Свеженка ГОСТ зам пак Шеи куриные П...  Цыпленок\n",
              "17819                            Цыпленок, шея, без кожи  Цыпленок\n",
              "17820               Цыпленок, шея, без кожи цена 27 руб.  Цыпленок\n",
              "\n",
              "[16438 rows x 2 columns]"
            ],
            "text/html": [
              "\n",
              "  <div id=\"df-9638b7d4-5bcc-4bd4-ac9a-88e4f422f3b3\" class=\"colab-df-container\">\n",
              "    <div>\n",
              "<style scoped>\n",
              "    .dataframe tbody tr th:only-of-type {\n",
              "        vertical-align: middle;\n",
              "    }\n",
              "\n",
              "    .dataframe tbody tr th {\n",
              "        vertical-align: top;\n",
              "    }\n",
              "\n",
              "    .dataframe thead th {\n",
              "        text-align: right;\n",
              "    }\n",
              "</style>\n",
              "<table border=\"1\" class=\"dataframe\">\n",
              "  <thead>\n",
              "    <tr style=\"text-align: right;\">\n",
              "      <th></th>\n",
              "      <th>text</th>\n",
              "      <th>mtype</th>\n",
              "    </tr>\n",
              "  </thead>\n",
              "  <tbody>\n",
              "    <tr>\n",
              "      <th>0</th>\n",
              "      <td>12 частей баранина  12 частей баранина</td>\n",
              "      <td>Баранина</td>\n",
              "    </tr>\n",
              "    <tr>\n",
              "      <th>1</th>\n",
              "      <td>Баранина, 12 частей, зам. цена 260 руб.</td>\n",
              "      <td>Баранина</td>\n",
              "    </tr>\n",
              "    <tr>\n",
              "      <th>2</th>\n",
              "      <td>Баранина, 12 частей, зам. цена 315 руб.</td>\n",
              "      <td>Баранина</td>\n",
              "    </tr>\n",
              "    <tr>\n",
              "      <th>3</th>\n",
              "      <td>Баранина, 12 частей, охл.</td>\n",
              "      <td>Баранина</td>\n",
              "    </tr>\n",
              "    <tr>\n",
              "      <th>4</th>\n",
              "      <td>Баранина, 12 частей, охл. цена 220 руб.</td>\n",
              "      <td>Баранина</td>\n",
              "    </tr>\n",
              "    <tr>\n",
              "      <th>...</th>\n",
              "      <td>...</td>\n",
              "      <td>...</td>\n",
              "    </tr>\n",
              "    <tr>\n",
              "      <th>17816</th>\n",
              "      <td>Цыпленок, четвертина, задняя</td>\n",
              "      <td>Цыпленок</td>\n",
              "    </tr>\n",
              "    <tr>\n",
              "      <th>17817</th>\n",
              "      <td>Цыпленок, четвертина, задняя цена 100 руб.</td>\n",
              "      <td>Цыпленок</td>\n",
              "    </tr>\n",
              "    <tr>\n",
              "      <th>17818</th>\n",
              "      <td>ЦБ Шеи п/ф Свеженка ГОСТ зам пак Шеи куриные П...</td>\n",
              "      <td>Цыпленок</td>\n",
              "    </tr>\n",
              "    <tr>\n",
              "      <th>17819</th>\n",
              "      <td>Цыпленок, шея, без кожи</td>\n",
              "      <td>Цыпленок</td>\n",
              "    </tr>\n",
              "    <tr>\n",
              "      <th>17820</th>\n",
              "      <td>Цыпленок, шея, без кожи цена 27 руб.</td>\n",
              "      <td>Цыпленок</td>\n",
              "    </tr>\n",
              "  </tbody>\n",
              "</table>\n",
              "<p>16438 rows × 2 columns</p>\n",
              "</div>\n",
              "    <div class=\"colab-df-buttons\">\n",
              "\n",
              "  <div class=\"colab-df-container\">\n",
              "    <button class=\"colab-df-convert\" onclick=\"convertToInteractive('df-9638b7d4-5bcc-4bd4-ac9a-88e4f422f3b3')\"\n",
              "            title=\"Convert this dataframe to an interactive table.\"\n",
              "            style=\"display:none;\">\n",
              "\n",
              "  <svg xmlns=\"http://www.w3.org/2000/svg\" height=\"24px\" viewBox=\"0 -960 960 960\">\n",
              "    <path d=\"M120-120v-720h720v720H120Zm60-500h600v-160H180v160Zm220 220h160v-160H400v160Zm0 220h160v-160H400v160ZM180-400h160v-160H180v160Zm440 0h160v-160H620v160ZM180-180h160v-160H180v160Zm440 0h160v-160H620v160Z\"/>\n",
              "  </svg>\n",
              "    </button>\n",
              "\n",
              "  <style>\n",
              "    .colab-df-container {\n",
              "      display:flex;\n",
              "      gap: 12px;\n",
              "    }\n",
              "\n",
              "    .colab-df-convert {\n",
              "      background-color: #E8F0FE;\n",
              "      border: none;\n",
              "      border-radius: 50%;\n",
              "      cursor: pointer;\n",
              "      display: none;\n",
              "      fill: #1967D2;\n",
              "      height: 32px;\n",
              "      padding: 0 0 0 0;\n",
              "      width: 32px;\n",
              "    }\n",
              "\n",
              "    .colab-df-convert:hover {\n",
              "      background-color: #E2EBFA;\n",
              "      box-shadow: 0px 1px 2px rgba(60, 64, 67, 0.3), 0px 1px 3px 1px rgba(60, 64, 67, 0.15);\n",
              "      fill: #174EA6;\n",
              "    }\n",
              "\n",
              "    .colab-df-buttons div {\n",
              "      margin-bottom: 4px;\n",
              "    }\n",
              "\n",
              "    [theme=dark] .colab-df-convert {\n",
              "      background-color: #3B4455;\n",
              "      fill: #D2E3FC;\n",
              "    }\n",
              "\n",
              "    [theme=dark] .colab-df-convert:hover {\n",
              "      background-color: #434B5C;\n",
              "      box-shadow: 0px 1px 3px 1px rgba(0, 0, 0, 0.15);\n",
              "      filter: drop-shadow(0px 1px 2px rgba(0, 0, 0, 0.3));\n",
              "      fill: #FFFFFF;\n",
              "    }\n",
              "  </style>\n",
              "\n",
              "    <script>\n",
              "      const buttonEl =\n",
              "        document.querySelector('#df-9638b7d4-5bcc-4bd4-ac9a-88e4f422f3b3 button.colab-df-convert');\n",
              "      buttonEl.style.display =\n",
              "        google.colab.kernel.accessAllowed ? 'block' : 'none';\n",
              "\n",
              "      async function convertToInteractive(key) {\n",
              "        const element = document.querySelector('#df-9638b7d4-5bcc-4bd4-ac9a-88e4f422f3b3');\n",
              "        const dataTable =\n",
              "          await google.colab.kernel.invokeFunction('convertToInteractive',\n",
              "                                                    [key], {});\n",
              "        if (!dataTable) return;\n",
              "\n",
              "        const docLinkHtml = 'Like what you see? Visit the ' +\n",
              "          '<a target=\"_blank\" href=https://colab.research.google.com/notebooks/data_table.ipynb>data table notebook</a>'\n",
              "          + ' to learn more about interactive tables.';\n",
              "        element.innerHTML = '';\n",
              "        dataTable['output_type'] = 'display_data';\n",
              "        await google.colab.output.renderOutput(dataTable, element);\n",
              "        const docLink = document.createElement('div');\n",
              "        docLink.innerHTML = docLinkHtml;\n",
              "        element.appendChild(docLink);\n",
              "      }\n",
              "    </script>\n",
              "  </div>\n",
              "\n",
              "\n",
              "<div id=\"df-0c2ec681-a27a-47ef-ace2-2edc87174eef\">\n",
              "  <button class=\"colab-df-quickchart\" onclick=\"quickchart('df-0c2ec681-a27a-47ef-ace2-2edc87174eef')\"\n",
              "            title=\"Suggest charts.\"\n",
              "            style=\"display:none;\">\n",
              "\n",
              "<svg xmlns=\"http://www.w3.org/2000/svg\" height=\"24px\"viewBox=\"0 0 24 24\"\n",
              "     width=\"24px\">\n",
              "    <g>\n",
              "        <path d=\"M19 3H5c-1.1 0-2 .9-2 2v14c0 1.1.9 2 2 2h14c1.1 0 2-.9 2-2V5c0-1.1-.9-2-2-2zM9 17H7v-7h2v7zm4 0h-2V7h2v10zm4 0h-2v-4h2v4z\"/>\n",
              "    </g>\n",
              "</svg>\n",
              "  </button>\n",
              "\n",
              "<style>\n",
              "  .colab-df-quickchart {\n",
              "      --bg-color: #E8F0FE;\n",
              "      --fill-color: #1967D2;\n",
              "      --hover-bg-color: #E2EBFA;\n",
              "      --hover-fill-color: #174EA6;\n",
              "      --disabled-fill-color: #AAA;\n",
              "      --disabled-bg-color: #DDD;\n",
              "  }\n",
              "\n",
              "  [theme=dark] .colab-df-quickchart {\n",
              "      --bg-color: #3B4455;\n",
              "      --fill-color: #D2E3FC;\n",
              "      --hover-bg-color: #434B5C;\n",
              "      --hover-fill-color: #FFFFFF;\n",
              "      --disabled-bg-color: #3B4455;\n",
              "      --disabled-fill-color: #666;\n",
              "  }\n",
              "\n",
              "  .colab-df-quickchart {\n",
              "    background-color: var(--bg-color);\n",
              "    border: none;\n",
              "    border-radius: 50%;\n",
              "    cursor: pointer;\n",
              "    display: none;\n",
              "    fill: var(--fill-color);\n",
              "    height: 32px;\n",
              "    padding: 0;\n",
              "    width: 32px;\n",
              "  }\n",
              "\n",
              "  .colab-df-quickchart:hover {\n",
              "    background-color: var(--hover-bg-color);\n",
              "    box-shadow: 0 1px 2px rgba(60, 64, 67, 0.3), 0 1px 3px 1px rgba(60, 64, 67, 0.15);\n",
              "    fill: var(--button-hover-fill-color);\n",
              "  }\n",
              "\n",
              "  .colab-df-quickchart-complete:disabled,\n",
              "  .colab-df-quickchart-complete:disabled:hover {\n",
              "    background-color: var(--disabled-bg-color);\n",
              "    fill: var(--disabled-fill-color);\n",
              "    box-shadow: none;\n",
              "  }\n",
              "\n",
              "  .colab-df-spinner {\n",
              "    border: 2px solid var(--fill-color);\n",
              "    border-color: transparent;\n",
              "    border-bottom-color: var(--fill-color);\n",
              "    animation:\n",
              "      spin 1s steps(1) infinite;\n",
              "  }\n",
              "\n",
              "  @keyframes spin {\n",
              "    0% {\n",
              "      border-color: transparent;\n",
              "      border-bottom-color: var(--fill-color);\n",
              "      border-left-color: var(--fill-color);\n",
              "    }\n",
              "    20% {\n",
              "      border-color: transparent;\n",
              "      border-left-color: var(--fill-color);\n",
              "      border-top-color: var(--fill-color);\n",
              "    }\n",
              "    30% {\n",
              "      border-color: transparent;\n",
              "      border-left-color: var(--fill-color);\n",
              "      border-top-color: var(--fill-color);\n",
              "      border-right-color: var(--fill-color);\n",
              "    }\n",
              "    40% {\n",
              "      border-color: transparent;\n",
              "      border-right-color: var(--fill-color);\n",
              "      border-top-color: var(--fill-color);\n",
              "    }\n",
              "    60% {\n",
              "      border-color: transparent;\n",
              "      border-right-color: var(--fill-color);\n",
              "    }\n",
              "    80% {\n",
              "      border-color: transparent;\n",
              "      border-right-color: var(--fill-color);\n",
              "      border-bottom-color: var(--fill-color);\n",
              "    }\n",
              "    90% {\n",
              "      border-color: transparent;\n",
              "      border-bottom-color: var(--fill-color);\n",
              "    }\n",
              "  }\n",
              "</style>\n",
              "\n",
              "  <script>\n",
              "    async function quickchart(key) {\n",
              "      const quickchartButtonEl =\n",
              "        document.querySelector('#' + key + ' button');\n",
              "      quickchartButtonEl.disabled = true;  // To prevent multiple clicks.\n",
              "      quickchartButtonEl.classList.add('colab-df-spinner');\n",
              "      try {\n",
              "        const charts = await google.colab.kernel.invokeFunction(\n",
              "            'suggestCharts', [key], {});\n",
              "      } catch (error) {\n",
              "        console.error('Error during call to suggestCharts:', error);\n",
              "      }\n",
              "      quickchartButtonEl.classList.remove('colab-df-spinner');\n",
              "      quickchartButtonEl.classList.add('colab-df-quickchart-complete');\n",
              "    }\n",
              "    (() => {\n",
              "      let quickchartButtonEl =\n",
              "        document.querySelector('#df-0c2ec681-a27a-47ef-ace2-2edc87174eef button');\n",
              "      quickchartButtonEl.style.display =\n",
              "        google.colab.kernel.accessAllowed ? 'block' : 'none';\n",
              "    })();\n",
              "  </script>\n",
              "</div>\n",
              "    </div>\n",
              "  </div>\n"
            ]
          },
          "metadata": {},
          "execution_count": 23
        }
      ]
    },
    {
      "cell_type": "code",
      "source": [
        "production.train(512,300,0.2)"
      ],
      "metadata": {
        "colab": {
          "base_uri": "https://localhost:8080/"
        },
        "id": "zaiWY034DnXd",
        "outputId": "c8a5dc78-12a4-4041-8619-6378071d0d07"
      },
      "execution_count": null,
      "outputs": [
        {
          "output_type": "stream",
          "name": "stderr",
          "text": [
            "Token indices sequence length is longer than the specified maximum sequence length for this model (584 > 512). Running this sequence through the model will result in indexing errors\n",
            "Warning: less than 75% gpu memory available for training. Free: 2344.8125 Total: 15101.8125\n"
          ]
        },
        {
          "output_type": "stream",
          "name": "stdout",
          "text": [
            "Learning rate set to 0.136209\n"
          ]
        },
        {
          "output_type": "stream",
          "name": "stderr",
          "text": [
            "Default metric period is 5 because AUC is/are not implemented for GPU\n",
            "AUC is not implemented on GPU. Will use CPU for metric computation, this could significantly affect learning time\n"
          ]
        },
        {
          "output_type": "stream",
          "name": "stdout",
          "text": [
            "0:\ttest: 0.7472990\tbest: 0.7472990 (0)\ttotal: 78.3ms\tremaining: 1m 18s\n",
            "100:\ttest: 0.9381719\tbest: 0.9381719 (100)\ttotal: 2.96s\tremaining: 26.4s\n",
            "200:\ttest: 0.9527465\tbest: 0.9527465 (200)\ttotal: 5.65s\tremaining: 22.5s\n",
            "300:\ttest: 0.9584954\tbest: 0.9584954 (300)\ttotal: 8.31s\tremaining: 19.3s\n",
            "400:\ttest: 0.9613028\tbest: 0.9613028 (400)\ttotal: 13.1s\tremaining: 19.5s\n",
            "500:\ttest: 0.9622987\tbest: 0.9622987 (500)\ttotal: 15.7s\tremaining: 15.6s\n",
            "600:\ttest: 0.9632234\tbest: 0.9632234 (600)\ttotal: 18.3s\tremaining: 12.1s\n",
            "700:\ttest: 0.9646499\tbest: 0.9647729 (690)\ttotal: 20.9s\tremaining: 8.92s\n",
            "800:\ttest: 0.9650156\tbest: 0.9650648 (790)\ttotal: 24.2s\tremaining: 6.02s\n",
            "900:\ttest: 0.9654936\tbest: 0.9655718 (880)\ttotal: 28.2s\tremaining: 3.1s\n",
            "999:\ttest: 0.9658766\tbest: 0.9659060 (980)\ttotal: 30.8s\tremaining: 0us\n",
            "bestTest = 0.965906013\n",
            "bestIteration = 980\n",
            "Shrink model to first 981 iterations.\n"
          ]
        }
      ]
    }
  ],
  "metadata": {
    "ExecuteTimeLog": [
      {
        "duration": 4355,
        "start_time": "2023-08-21T13:21:24.368Z"
      },
      {
        "duration": 4,
        "start_time": "2023-08-21T13:21:28.727Z"
      },
      {
        "duration": 70,
        "start_time": "2023-08-21T13:21:28.733Z"
      },
      {
        "duration": 91,
        "start_time": "2023-08-21T13:21:28.806Z"
      },
      {
        "duration": 36,
        "start_time": "2023-08-21T13:21:28.899Z"
      },
      {
        "duration": 67,
        "start_time": "2023-08-21T13:21:28.937Z"
      },
      {
        "duration": 82,
        "start_time": "2023-08-21T13:21:29.006Z"
      },
      {
        "duration": 214,
        "start_time": "2023-08-21T13:21:29.090Z"
      },
      {
        "duration": 46,
        "start_time": "2023-08-21T13:21:29.306Z"
      },
      {
        "duration": 5,
        "start_time": "2023-08-21T13:21:29.354Z"
      },
      {
        "duration": 17,
        "start_time": "2023-08-21T13:21:29.388Z"
      },
      {
        "duration": 11,
        "start_time": "2023-08-21T13:21:29.407Z"
      },
      {
        "duration": 15,
        "start_time": "2023-08-21T13:21:29.420Z"
      },
      {
        "duration": 472,
        "start_time": "2023-08-21T13:21:29.437Z"
      },
      {
        "duration": 796,
        "start_time": "2023-08-21T13:21:29.911Z"
      },
      {
        "duration": 5,
        "start_time": "2023-08-21T13:21:30.710Z"
      },
      {
        "duration": 98,
        "start_time": "2023-08-21T13:21:30.717Z"
      },
      {
        "duration": 41,
        "start_time": "2023-08-21T13:21:30.817Z"
      },
      {
        "duration": 65,
        "start_time": "2023-08-21T13:21:30.859Z"
      },
      {
        "duration": 69,
        "start_time": "2023-08-21T13:21:30.926Z"
      },
      {
        "duration": 13,
        "start_time": "2023-08-21T13:21:30.997Z"
      },
      {
        "duration": 41,
        "start_time": "2023-08-21T13:21:31.011Z"
      },
      {
        "duration": 45,
        "start_time": "2023-08-21T13:21:31.053Z"
      },
      {
        "duration": 328,
        "start_time": "2023-08-21T13:21:31.100Z"
      },
      {
        "duration": 5,
        "start_time": "2023-08-21T13:21:31.430Z"
      },
      {
        "duration": 79,
        "start_time": "2023-08-21T13:21:31.437Z"
      },
      {
        "duration": 66,
        "start_time": "2023-08-21T13:21:31.517Z"
      },
      {
        "duration": 36,
        "start_time": "2023-08-21T13:21:31.587Z"
      },
      {
        "duration": 30,
        "start_time": "2023-08-21T13:21:31.624Z"
      },
      {
        "duration": 25,
        "start_time": "2023-08-21T13:21:31.655Z"
      },
      {
        "duration": 38,
        "start_time": "2023-08-21T13:21:31.682Z"
      },
      {
        "duration": 40,
        "start_time": "2023-08-21T13:21:31.724Z"
      },
      {
        "duration": 44,
        "start_time": "2023-08-21T13:21:31.766Z"
      },
      {
        "duration": 57,
        "start_time": "2023-08-21T13:21:31.812Z"
      },
      {
        "duration": 82,
        "start_time": "2023-08-21T13:21:31.871Z"
      },
      {
        "duration": 67,
        "start_time": "2023-08-21T13:21:31.955Z"
      },
      {
        "duration": 122,
        "start_time": "2023-08-21T13:21:32.024Z"
      },
      {
        "duration": 59,
        "start_time": "2023-08-21T13:21:32.148Z"
      },
      {
        "duration": 91,
        "start_time": "2023-08-21T13:21:32.208Z"
      },
      {
        "duration": 46,
        "start_time": "2023-08-21T13:21:32.300Z"
      },
      {
        "duration": 84,
        "start_time": "2023-08-21T13:21:32.348Z"
      },
      {
        "duration": 78,
        "start_time": "2023-08-21T13:21:32.434Z"
      },
      {
        "duration": 203,
        "start_time": "2023-08-21T13:21:32.516Z"
      },
      {
        "duration": 84,
        "start_time": "2023-08-21T13:21:32.722Z"
      },
      {
        "duration": 46,
        "start_time": "2023-08-21T13:21:32.808Z"
      },
      {
        "duration": 75,
        "start_time": "2023-08-21T13:21:32.855Z"
      },
      {
        "duration": 108,
        "start_time": "2023-08-21T13:21:32.932Z"
      },
      {
        "duration": 2580,
        "start_time": "2023-08-21T13:21:33.042Z"
      },
      {
        "duration": 68,
        "start_time": "2023-08-21T13:21:35.624Z"
      },
      {
        "duration": 19,
        "start_time": "2023-08-21T13:21:35.694Z"
      },
      {
        "duration": 42,
        "start_time": "2023-08-21T13:21:35.715Z"
      },
      {
        "duration": 3351,
        "start_time": "2023-08-21T13:21:35.758Z"
      },
      {
        "duration": 0,
        "start_time": "2023-08-21T13:21:39.112Z"
      },
      {
        "duration": 0,
        "start_time": "2023-08-21T13:21:39.114Z"
      },
      {
        "duration": 0,
        "start_time": "2023-08-21T13:21:39.116Z"
      },
      {
        "duration": 0,
        "start_time": "2023-08-21T13:21:39.117Z"
      },
      {
        "duration": 0,
        "start_time": "2023-08-21T13:21:39.119Z"
      },
      {
        "duration": 0,
        "start_time": "2023-08-21T13:21:39.121Z"
      },
      {
        "duration": 0,
        "start_time": "2023-08-21T13:21:39.122Z"
      },
      {
        "duration": 0,
        "start_time": "2023-08-21T13:21:39.124Z"
      },
      {
        "duration": 0,
        "start_time": "2023-08-21T13:21:39.125Z"
      },
      {
        "duration": 0,
        "start_time": "2023-08-21T13:21:39.127Z"
      },
      {
        "duration": 0,
        "start_time": "2023-08-21T13:21:39.128Z"
      },
      {
        "duration": 0,
        "start_time": "2023-08-21T13:21:39.131Z"
      },
      {
        "duration": 0,
        "start_time": "2023-08-21T13:21:39.133Z"
      },
      {
        "duration": 0,
        "start_time": "2023-08-21T13:21:39.135Z"
      },
      {
        "duration": 0,
        "start_time": "2023-08-21T13:21:39.136Z"
      },
      {
        "duration": 0,
        "start_time": "2023-08-21T13:21:39.137Z"
      },
      {
        "duration": 0,
        "start_time": "2023-08-21T13:21:39.138Z"
      },
      {
        "duration": 0,
        "start_time": "2023-08-21T13:21:39.139Z"
      },
      {
        "duration": 0,
        "start_time": "2023-08-21T13:21:39.140Z"
      },
      {
        "duration": 0,
        "start_time": "2023-08-21T13:21:39.140Z"
      },
      {
        "duration": 102,
        "start_time": "2023-08-21T13:39:34.498Z"
      },
      {
        "duration": 18,
        "start_time": "2023-08-21T13:39:35.691Z"
      },
      {
        "duration": 129,
        "start_time": "2023-08-21T13:39:35.890Z"
      },
      {
        "duration": 282,
        "start_time": "2023-08-21T13:39:36.216Z"
      },
      {
        "duration": 77,
        "start_time": "2023-08-21T13:39:36.512Z"
      },
      {
        "duration": 197,
        "start_time": "2023-08-21T13:39:36.600Z"
      },
      {
        "duration": 6,
        "start_time": "2023-08-21T13:39:36.807Z"
      },
      {
        "duration": 90,
        "start_time": "2023-08-21T13:39:37.118Z"
      },
      {
        "duration": 209,
        "start_time": "2023-08-21T13:39:37.298Z"
      },
      {
        "duration": 0,
        "start_time": "2023-08-21T13:39:37.530Z"
      },
      {
        "duration": 684,
        "start_time": "2023-08-21T13:39:37.607Z"
      },
      {
        "duration": 6578,
        "start_time": "2023-08-21T13:39:38.312Z"
      },
      {
        "duration": 0,
        "start_time": "2023-08-21T13:39:44.897Z"
      },
      {
        "duration": 1,
        "start_time": "2023-08-21T13:39:44.898Z"
      },
      {
        "duration": 0,
        "start_time": "2023-08-21T13:39:44.900Z"
      },
      {
        "duration": 0,
        "start_time": "2023-08-21T13:39:44.901Z"
      },
      {
        "duration": 0,
        "start_time": "2023-08-21T13:39:44.903Z"
      },
      {
        "duration": 0,
        "start_time": "2023-08-21T13:39:44.904Z"
      },
      {
        "duration": 0,
        "start_time": "2023-08-21T13:39:44.907Z"
      },
      {
        "duration": 0,
        "start_time": "2023-08-21T13:39:44.909Z"
      },
      {
        "duration": 199,
        "start_time": "2023-08-21T13:41:36.990Z"
      },
      {
        "duration": 10819,
        "start_time": "2023-08-21T13:45:24.092Z"
      },
      {
        "duration": 102,
        "start_time": "2023-08-21T17:01:02.091Z"
      },
      {
        "duration": 43,
        "start_time": "2023-08-21T17:06:17.169Z"
      },
      {
        "duration": 1524,
        "start_time": "2023-08-21T17:06:24.412Z"
      },
      {
        "duration": 3,
        "start_time": "2023-08-21T17:06:25.938Z"
      },
      {
        "duration": 4,
        "start_time": "2023-08-21T17:06:27.178Z"
      },
      {
        "duration": 4,
        "start_time": "2023-08-21T17:06:28.216Z"
      },
      {
        "duration": 5,
        "start_time": "2023-08-21T17:06:29.278Z"
      },
      {
        "duration": 4,
        "start_time": "2023-08-21T17:06:29.888Z"
      },
      {
        "duration": 4,
        "start_time": "2023-08-21T17:06:30.560Z"
      },
      {
        "duration": 377,
        "start_time": "2023-08-21T17:06:33.176Z"
      },
      {
        "duration": 42,
        "start_time": "2023-08-21T17:06:36.490Z"
      },
      {
        "duration": 3,
        "start_time": "2023-08-21T17:06:39.487Z"
      },
      {
        "duration": 8,
        "start_time": "2023-08-21T17:06:44.917Z"
      },
      {
        "duration": 7,
        "start_time": "2023-08-21T17:06:46.920Z"
      },
      {
        "duration": 5,
        "start_time": "2023-08-21T17:06:49.840Z"
      },
      {
        "duration": 338,
        "start_time": "2023-08-21T17:06:50.712Z"
      },
      {
        "duration": 329,
        "start_time": "2023-08-21T17:06:51.256Z"
      },
      {
        "duration": 16,
        "start_time": "2023-08-21T17:08:07.051Z"
      },
      {
        "duration": 4,
        "start_time": "2023-08-21T17:08:31.217Z"
      },
      {
        "duration": 5,
        "start_time": "2023-08-21T17:08:32.912Z"
      },
      {
        "duration": 10,
        "start_time": "2023-08-21T17:08:35.442Z"
      },
      {
        "duration": 11,
        "start_time": "2023-08-21T17:08:36.173Z"
      },
      {
        "duration": 17,
        "start_time": "2023-08-21T17:08:37.183Z"
      },
      {
        "duration": 5,
        "start_time": "2023-08-21T17:08:44.524Z"
      },
      {
        "duration": 4,
        "start_time": "2023-08-21T17:08:45.120Z"
      },
      {
        "duration": 16,
        "start_time": "2023-08-21T17:08:46.225Z"
      },
      {
        "duration": 217,
        "start_time": "2023-08-21T17:08:47.080Z"
      },
      {
        "duration": 3,
        "start_time": "2023-08-21T17:08:50.821Z"
      },
      {
        "duration": 4,
        "start_time": "2023-08-21T17:08:52.917Z"
      },
      {
        "duration": 11,
        "start_time": "2023-08-21T17:08:53.568Z"
      },
      {
        "duration": 12,
        "start_time": "2023-08-21T17:08:54.228Z"
      },
      {
        "duration": 11,
        "start_time": "2023-08-21T17:08:55.036Z"
      },
      {
        "duration": 5,
        "start_time": "2023-08-21T17:08:57.120Z"
      },
      {
        "duration": 9,
        "start_time": "2023-08-21T17:08:57.760Z"
      },
      {
        "duration": 7,
        "start_time": "2023-08-21T17:08:58.348Z"
      },
      {
        "duration": 4,
        "start_time": "2023-08-21T17:08:58.897Z"
      },
      {
        "duration": 5,
        "start_time": "2023-08-21T17:09:00.209Z"
      },
      {
        "duration": 8,
        "start_time": "2023-08-21T17:09:00.644Z"
      },
      {
        "duration": 8,
        "start_time": "2023-08-21T17:09:01.185Z"
      },
      {
        "duration": 33,
        "start_time": "2023-08-21T17:09:02.308Z"
      },
      {
        "duration": 10,
        "start_time": "2023-08-21T17:09:02.936Z"
      },
      {
        "duration": 10,
        "start_time": "2023-08-21T17:09:04.233Z"
      },
      {
        "duration": 18,
        "start_time": "2023-08-21T17:09:04.856Z"
      },
      {
        "duration": 36,
        "start_time": "2023-08-21T17:09:06.064Z"
      },
      {
        "duration": 8,
        "start_time": "2023-08-21T17:09:06.652Z"
      },
      {
        "duration": 13,
        "start_time": "2023-08-21T17:09:08.409Z"
      },
      {
        "duration": 4,
        "start_time": "2023-08-21T17:11:45.472Z"
      },
      {
        "duration": 4,
        "start_time": "2023-08-21T17:12:53.321Z"
      },
      {
        "duration": 318,
        "start_time": "2023-08-21T17:12:57.673Z"
      },
      {
        "duration": 9,
        "start_time": "2023-08-21T17:13:00.169Z"
      },
      {
        "duration": 71,
        "start_time": "2023-08-21T17:14:33.137Z"
      },
      {
        "duration": 81,
        "start_time": "2023-08-21T17:15:18.237Z"
      },
      {
        "duration": 5,
        "start_time": "2023-08-21T17:15:37.008Z"
      },
      {
        "duration": 200,
        "start_time": "2023-08-21T17:15:40.653Z"
      },
      {
        "duration": 1288,
        "start_time": "2023-08-21T17:17:38.249Z"
      },
      {
        "duration": 13,
        "start_time": "2023-08-21T17:17:50.861Z"
      },
      {
        "duration": 6,
        "start_time": "2023-08-21T17:17:56.177Z"
      },
      {
        "duration": 49,
        "start_time": "2023-08-21T17:18:33.121Z"
      },
      {
        "duration": 1457,
        "start_time": "2023-08-21T17:18:48.083Z"
      },
      {
        "duration": 9,
        "start_time": "2023-08-21T17:18:57.605Z"
      },
      {
        "duration": 10,
        "start_time": "2023-08-21T17:19:04.913Z"
      },
      {
        "duration": 3,
        "start_time": "2023-08-21T17:19:07.674Z"
      },
      {
        "duration": 1365,
        "start_time": "2023-08-21T17:19:12.381Z"
      },
      {
        "duration": 5,
        "start_time": "2023-08-21T17:20:53.425Z"
      },
      {
        "duration": 1573,
        "start_time": "2023-08-21T17:21:05.226Z"
      },
      {
        "duration": 849,
        "start_time": "2023-08-21T17:23:03.714Z"
      },
      {
        "duration": 1594,
        "start_time": "2023-08-21T17:23:11.929Z"
      },
      {
        "duration": 1961,
        "start_time": "2023-08-21T17:23:16.526Z"
      },
      {
        "duration": 1412,
        "start_time": "2023-08-21T17:23:20.137Z"
      },
      {
        "duration": 5,
        "start_time": "2023-08-21T17:24:25.418Z"
      },
      {
        "duration": 1450,
        "start_time": "2023-08-21T17:24:34.118Z"
      },
      {
        "duration": 15,
        "start_time": "2023-08-21T17:24:44.781Z"
      },
      {
        "duration": 8,
        "start_time": "2023-08-21T17:24:51.126Z"
      },
      {
        "duration": 22,
        "start_time": "2023-08-21T17:24:54.074Z"
      },
      {
        "duration": 40,
        "start_time": "2023-08-21T17:24:56.930Z"
      },
      {
        "duration": 4,
        "start_time": "2023-08-21T17:24:57.715Z"
      },
      {
        "duration": 14,
        "start_time": "2023-08-21T17:24:58.879Z"
      },
      {
        "duration": 3,
        "start_time": "2023-08-21T17:25:00.138Z"
      },
      {
        "duration": 6,
        "start_time": "2023-08-21T17:25:03.914Z"
      },
      {
        "duration": 6,
        "start_time": "2023-08-21T17:25:09.354Z"
      },
      {
        "duration": 26,
        "start_time": "2023-08-21T17:25:11.362Z"
      },
      {
        "duration": 5,
        "start_time": "2023-08-21T17:28:07.526Z"
      },
      {
        "duration": 25,
        "start_time": "2023-08-21T17:29:31.519Z"
      },
      {
        "duration": 5,
        "start_time": "2023-08-21T17:32:00.469Z"
      },
      {
        "duration": 25,
        "start_time": "2023-08-21T17:32:40.289Z"
      },
      {
        "duration": 5571,
        "start_time": "2023-08-21T17:33:49.980Z"
      },
      {
        "duration": 36,
        "start_time": "2023-08-21T17:33:59.067Z"
      },
      {
        "duration": 5,
        "start_time": "2023-08-21T17:34:26.116Z"
      },
      {
        "duration": 26,
        "start_time": "2023-08-21T17:34:51.235Z"
      },
      {
        "duration": 7,
        "start_time": "2023-08-21T17:35:24.144Z"
      },
      {
        "duration": 30,
        "start_time": "2023-08-21T17:35:33.731Z"
      },
      {
        "duration": 5,
        "start_time": "2023-08-21T17:35:55.479Z"
      },
      {
        "duration": 33,
        "start_time": "2023-08-21T17:36:02.839Z"
      },
      {
        "duration": 4,
        "start_time": "2023-08-21T17:37:00.852Z"
      },
      {
        "duration": 27,
        "start_time": "2023-08-21T17:37:12.886Z"
      },
      {
        "duration": 4,
        "start_time": "2023-08-21T17:38:23.920Z"
      },
      {
        "duration": 43,
        "start_time": "2023-08-21T17:38:35.120Z"
      },
      {
        "duration": 33,
        "start_time": "2023-08-21T17:39:29.647Z"
      },
      {
        "duration": 213,
        "start_time": "2023-08-21T17:39:30.344Z"
      },
      {
        "duration": 67782,
        "start_time": "2023-08-21T17:39:46.768Z"
      },
      {
        "duration": 9,
        "start_time": "2023-08-21T17:43:18.824Z"
      },
      {
        "duration": 320471,
        "start_time": "2023-08-21T17:43:33.720Z"
      },
      {
        "duration": 4,
        "start_time": "2023-08-21T17:49:29.660Z"
      },
      {
        "duration": 4,
        "start_time": "2023-08-21T17:51:45.129Z"
      },
      {
        "duration": 252924,
        "start_time": "2023-08-21T17:51:57.321Z"
      },
      {
        "duration": 16,
        "start_time": "2023-08-21T17:56:32.272Z"
      },
      {
        "duration": 49769,
        "start_time": "2023-08-21T17:57:20.029Z"
      },
      {
        "duration": 79927,
        "start_time": "2023-08-21T17:59:23.833Z"
      },
      {
        "duration": 44026,
        "start_time": "2023-08-21T18:00:52.038Z"
      },
      {
        "duration": 14,
        "start_time": "2023-08-21T18:01:39.933Z"
      },
      {
        "duration": 162,
        "start_time": "2023-08-21T18:01:46.165Z"
      },
      {
        "duration": 147,
        "start_time": "2023-08-21T18:02:32.792Z"
      },
      {
        "duration": 146,
        "start_time": "2023-08-21T18:04:34.465Z"
      },
      {
        "duration": 140,
        "start_time": "2023-08-21T18:06:35.677Z"
      },
      {
        "duration": 137,
        "start_time": "2023-08-21T18:06:58.652Z"
      },
      {
        "duration": 288,
        "start_time": "2023-08-21T18:07:04.647Z"
      },
      {
        "duration": 13,
        "start_time": "2023-08-21T18:07:09.062Z"
      },
      {
        "duration": 154,
        "start_time": "2023-08-21T18:07:13.927Z"
      },
      {
        "duration": 318,
        "start_time": "2023-08-21T18:07:55.880Z"
      },
      {
        "duration": 14,
        "start_time": "2023-08-21T18:08:27.061Z"
      },
      {
        "duration": 12,
        "start_time": "2023-08-21T18:08:34.063Z"
      },
      {
        "duration": 3159,
        "start_time": "2023-08-22T18:25:35.534Z"
      },
      {
        "duration": 3,
        "start_time": "2023-08-22T18:25:38.696Z"
      },
      {
        "duration": 8,
        "start_time": "2023-08-22T18:25:38.701Z"
      },
      {
        "duration": 4,
        "start_time": "2023-08-22T18:25:38.712Z"
      },
      {
        "duration": 24,
        "start_time": "2023-08-22T18:25:38.718Z"
      },
      {
        "duration": 17,
        "start_time": "2023-08-22T18:25:38.744Z"
      },
      {
        "duration": 11,
        "start_time": "2023-08-22T18:25:38.763Z"
      },
      {
        "duration": 402,
        "start_time": "2023-08-22T18:25:38.776Z"
      },
      {
        "duration": 46,
        "start_time": "2023-08-22T18:25:39.180Z"
      },
      {
        "duration": 6,
        "start_time": "2023-08-22T18:25:39.229Z"
      },
      {
        "duration": 16,
        "start_time": "2023-08-22T18:25:39.241Z"
      },
      {
        "duration": 10,
        "start_time": "2023-08-22T18:25:39.259Z"
      },
      {
        "duration": 11,
        "start_time": "2023-08-22T18:25:39.270Z"
      },
      {
        "duration": 410,
        "start_time": "2023-08-22T18:25:39.282Z"
      },
      {
        "duration": 390,
        "start_time": "2023-08-22T18:25:39.694Z"
      },
      {
        "duration": 6,
        "start_time": "2023-08-22T18:25:40.086Z"
      },
      {
        "duration": 6,
        "start_time": "2023-08-22T18:25:40.093Z"
      },
      {
        "duration": 19,
        "start_time": "2023-08-22T18:25:40.101Z"
      },
      {
        "duration": 13,
        "start_time": "2023-08-22T18:25:40.135Z"
      },
      {
        "duration": 23,
        "start_time": "2023-08-22T18:25:40.150Z"
      },
      {
        "duration": 26,
        "start_time": "2023-08-22T18:25:40.174Z"
      },
      {
        "duration": 22,
        "start_time": "2023-08-22T18:25:40.201Z"
      },
      {
        "duration": 28,
        "start_time": "2023-08-22T18:25:40.225Z"
      },
      {
        "duration": 267,
        "start_time": "2023-08-22T18:25:40.255Z"
      },
      {
        "duration": 14,
        "start_time": "2023-08-22T18:25:40.524Z"
      },
      {
        "duration": 7,
        "start_time": "2023-08-22T18:25:40.546Z"
      },
      {
        "duration": 55,
        "start_time": "2023-08-22T18:25:40.555Z"
      },
      {
        "duration": 15,
        "start_time": "2023-08-22T18:25:40.614Z"
      },
      {
        "duration": 23,
        "start_time": "2023-08-22T18:25:40.632Z"
      },
      {
        "duration": 8,
        "start_time": "2023-08-22T18:25:40.657Z"
      },
      {
        "duration": 20,
        "start_time": "2023-08-22T18:25:40.667Z"
      },
      {
        "duration": 31,
        "start_time": "2023-08-22T18:25:40.689Z"
      },
      {
        "duration": 16,
        "start_time": "2023-08-22T18:25:40.722Z"
      },
      {
        "duration": 14,
        "start_time": "2023-08-22T18:25:40.740Z"
      },
      {
        "duration": 17,
        "start_time": "2023-08-22T18:25:40.756Z"
      },
      {
        "duration": 15,
        "start_time": "2023-08-22T18:25:40.775Z"
      },
      {
        "duration": 29,
        "start_time": "2023-08-22T18:25:40.792Z"
      },
      {
        "duration": 25,
        "start_time": "2023-08-22T18:25:40.823Z"
      },
      {
        "duration": 12,
        "start_time": "2023-08-22T18:25:40.853Z"
      },
      {
        "duration": 21,
        "start_time": "2023-08-22T18:25:40.866Z"
      },
      {
        "duration": 65,
        "start_time": "2023-08-22T18:25:40.888Z"
      },
      {
        "duration": 8,
        "start_time": "2023-08-22T18:25:40.955Z"
      },
      {
        "duration": 23,
        "start_time": "2023-08-22T18:25:40.965Z"
      },
      {
        "duration": 11,
        "start_time": "2023-08-22T18:25:40.990Z"
      },
      {
        "duration": 83,
        "start_time": "2023-08-22T18:25:41.003Z"
      },
      {
        "duration": 1539,
        "start_time": "2023-08-22T18:25:41.087Z"
      },
      {
        "duration": 12,
        "start_time": "2023-08-22T18:25:42.628Z"
      },
      {
        "duration": 21,
        "start_time": "2023-08-22T18:25:42.643Z"
      },
      {
        "duration": 15,
        "start_time": "2023-08-22T18:25:42.666Z"
      },
      {
        "duration": 1549,
        "start_time": "2023-08-22T18:25:42.683Z"
      },
      {
        "duration": 24,
        "start_time": "2023-08-22T18:25:44.234Z"
      },
      {
        "duration": 14,
        "start_time": "2023-08-22T18:25:44.259Z"
      },
      {
        "duration": 34,
        "start_time": "2023-08-22T18:25:44.274Z"
      },
      {
        "duration": 68,
        "start_time": "2023-08-22T18:25:44.309Z"
      },
      {
        "duration": 4,
        "start_time": "2023-08-22T18:25:44.378Z"
      },
      {
        "duration": 28,
        "start_time": "2023-08-22T18:25:44.384Z"
      },
      {
        "duration": 32,
        "start_time": "2023-08-22T18:25:44.414Z"
      },
      {
        "duration": 17,
        "start_time": "2023-08-22T18:25:44.448Z"
      },
      {
        "duration": 81,
        "start_time": "2023-08-22T18:25:44.467Z"
      },
      {
        "duration": 66,
        "start_time": "2023-08-22T18:25:44.550Z"
      },
      {
        "duration": 176,
        "start_time": "2023-08-22T18:25:44.618Z"
      },
      {
        "duration": 255070,
        "start_time": "2023-08-22T18:25:44.796Z"
      },
      {
        "duration": 90937,
        "start_time": "2023-08-22T18:29:59.868Z"
      },
      {
        "duration": 91649,
        "start_time": "2023-08-22T18:31:30.808Z"
      },
      {
        "duration": 116,
        "start_time": "2023-08-22T18:33:02.460Z"
      },
      {
        "duration": 263,
        "start_time": "2023-08-22T18:33:02.578Z"
      },
      {
        "duration": 320,
        "start_time": "2023-08-22T18:33:02.845Z"
      },
      {
        "duration": 7,
        "start_time": "2023-08-22T18:33:03.167Z"
      },
      {
        "duration": 255,
        "start_time": "2023-08-22T18:33:03.176Z"
      },
      {
        "duration": 51,
        "start_time": "2023-08-22T18:40:34.876Z"
      },
      {
        "duration": 1898,
        "start_time": "2023-08-22T20:30:00.702Z"
      },
      {
        "duration": 16,
        "start_time": "2023-08-22T20:34:10.329Z"
      },
      {
        "duration": 0,
        "start_time": "2023-08-22T20:34:10.347Z"
      },
      {
        "duration": 0,
        "start_time": "2023-08-22T20:34:10.349Z"
      },
      {
        "duration": 0,
        "start_time": "2023-08-22T20:34:10.350Z"
      },
      {
        "duration": 0,
        "start_time": "2023-08-22T20:34:10.352Z"
      },
      {
        "duration": 0,
        "start_time": "2023-08-22T20:34:10.353Z"
      },
      {
        "duration": 0,
        "start_time": "2023-08-22T20:34:10.355Z"
      },
      {
        "duration": 0,
        "start_time": "2023-08-22T20:34:10.357Z"
      },
      {
        "duration": 0,
        "start_time": "2023-08-22T20:34:10.358Z"
      },
      {
        "duration": 1,
        "start_time": "2023-08-22T20:34:10.361Z"
      },
      {
        "duration": 0,
        "start_time": "2023-08-22T20:34:10.364Z"
      },
      {
        "duration": 14,
        "start_time": "2023-08-22T20:34:10.366Z"
      },
      {
        "duration": 0,
        "start_time": "2023-08-22T20:34:10.382Z"
      },
      {
        "duration": 0,
        "start_time": "2023-08-22T20:34:10.386Z"
      },
      {
        "duration": 0,
        "start_time": "2023-08-22T20:34:10.388Z"
      },
      {
        "duration": 0,
        "start_time": "2023-08-22T20:34:10.390Z"
      },
      {
        "duration": 0,
        "start_time": "2023-08-22T20:34:10.391Z"
      },
      {
        "duration": 0,
        "start_time": "2023-08-22T20:34:10.393Z"
      },
      {
        "duration": 0,
        "start_time": "2023-08-22T20:34:10.395Z"
      },
      {
        "duration": 0,
        "start_time": "2023-08-22T20:34:10.396Z"
      },
      {
        "duration": 0,
        "start_time": "2023-08-22T20:34:10.397Z"
      },
      {
        "duration": 0,
        "start_time": "2023-08-22T20:34:10.398Z"
      },
      {
        "duration": 0,
        "start_time": "2023-08-22T20:34:10.449Z"
      },
      {
        "duration": 0,
        "start_time": "2023-08-22T20:34:10.452Z"
      },
      {
        "duration": 12,
        "start_time": "2023-08-22T20:34:10.455Z"
      },
      {
        "duration": 0,
        "start_time": "2023-08-22T20:34:10.469Z"
      },
      {
        "duration": 0,
        "start_time": "2023-08-22T20:34:10.471Z"
      },
      {
        "duration": 0,
        "start_time": "2023-08-22T20:34:10.472Z"
      },
      {
        "duration": 0,
        "start_time": "2023-08-22T20:34:10.474Z"
      },
      {
        "duration": 0,
        "start_time": "2023-08-22T20:34:10.476Z"
      },
      {
        "duration": 0,
        "start_time": "2023-08-22T20:34:10.477Z"
      },
      {
        "duration": 0,
        "start_time": "2023-08-22T20:34:10.478Z"
      },
      {
        "duration": 0,
        "start_time": "2023-08-22T20:34:10.480Z"
      },
      {
        "duration": 0,
        "start_time": "2023-08-22T20:34:10.481Z"
      },
      {
        "duration": 0,
        "start_time": "2023-08-22T20:34:10.483Z"
      },
      {
        "duration": 0,
        "start_time": "2023-08-22T20:34:10.485Z"
      },
      {
        "duration": 0,
        "start_time": "2023-08-22T20:34:10.486Z"
      },
      {
        "duration": 0,
        "start_time": "2023-08-22T20:34:10.488Z"
      },
      {
        "duration": 0,
        "start_time": "2023-08-22T20:34:10.490Z"
      },
      {
        "duration": 0,
        "start_time": "2023-08-22T20:34:10.549Z"
      },
      {
        "duration": 0,
        "start_time": "2023-08-22T20:34:10.550Z"
      },
      {
        "duration": 0,
        "start_time": "2023-08-22T20:34:10.551Z"
      },
      {
        "duration": 0,
        "start_time": "2023-08-22T20:34:10.552Z"
      },
      {
        "duration": 3525,
        "start_time": "2023-08-22T20:34:52.608Z"
      },
      {
        "duration": 17,
        "start_time": "2023-08-22T20:35:00.223Z"
      },
      {
        "duration": 4,
        "start_time": "2023-08-22T20:35:02.776Z"
      },
      {
        "duration": 8,
        "start_time": "2023-08-22T20:35:03.313Z"
      },
      {
        "duration": 7,
        "start_time": "2023-08-22T20:35:04.604Z"
      },
      {
        "duration": 8,
        "start_time": "2023-08-22T20:35:05.545Z"
      },
      {
        "duration": 9,
        "start_time": "2023-08-22T20:35:06.438Z"
      },
      {
        "duration": 5,
        "start_time": "2023-08-22T20:35:06.909Z"
      },
      {
        "duration": 437,
        "start_time": "2023-08-22T20:35:09.323Z"
      },
      {
        "duration": 73,
        "start_time": "2023-08-22T20:35:10.151Z"
      },
      {
        "duration": 6,
        "start_time": "2023-08-22T20:35:12.344Z"
      },
      {
        "duration": 15,
        "start_time": "2023-08-22T20:35:13.334Z"
      },
      {
        "duration": 8,
        "start_time": "2023-08-22T20:35:14.602Z"
      },
      {
        "duration": 6,
        "start_time": "2023-08-22T20:35:15.109Z"
      },
      {
        "duration": 534,
        "start_time": "2023-08-22T20:35:15.550Z"
      },
      {
        "duration": 562,
        "start_time": "2023-08-22T20:35:16.086Z"
      },
      {
        "duration": 8,
        "start_time": "2023-08-22T20:35:19.756Z"
      },
      {
        "duration": 6,
        "start_time": "2023-08-22T20:35:20.163Z"
      },
      {
        "duration": 21,
        "start_time": "2023-08-22T20:35:20.979Z"
      },
      {
        "duration": 13,
        "start_time": "2023-08-22T20:35:21.178Z"
      },
      {
        "duration": 18,
        "start_time": "2023-08-22T20:35:21.409Z"
      },
      {
        "duration": 7,
        "start_time": "2023-08-22T20:35:21.780Z"
      },
      {
        "duration": 9,
        "start_time": "2023-08-22T20:35:21.978Z"
      },
      {
        "duration": 17,
        "start_time": "2023-08-22T20:35:22.597Z"
      },
      {
        "duration": 374,
        "start_time": "2023-08-22T20:35:22.966Z"
      },
      {
        "duration": 5,
        "start_time": "2023-08-22T20:35:25.705Z"
      },
      {
        "duration": 6,
        "start_time": "2023-08-22T20:35:26.414Z"
      },
      {
        "duration": 19,
        "start_time": "2023-08-22T20:35:26.973Z"
      },
      {
        "duration": 19,
        "start_time": "2023-08-22T20:35:27.602Z"
      },
      {
        "duration": 18,
        "start_time": "2023-08-22T20:35:28.178Z"
      },
      {
        "duration": 7,
        "start_time": "2023-08-22T20:35:30.247Z"
      },
      {
        "duration": 17,
        "start_time": "2023-08-22T20:35:30.730Z"
      },
      {
        "duration": 9,
        "start_time": "2023-08-22T20:35:31.060Z"
      },
      {
        "duration": 7,
        "start_time": "2023-08-22T20:35:31.509Z"
      },
      {
        "duration": 8,
        "start_time": "2023-08-22T20:35:33.654Z"
      },
      {
        "duration": 13,
        "start_time": "2023-08-22T20:35:34.070Z"
      },
      {
        "duration": 17,
        "start_time": "2023-08-22T20:35:34.610Z"
      },
      {
        "duration": 38,
        "start_time": "2023-08-22T20:35:35.430Z"
      },
      {
        "duration": 17,
        "start_time": "2023-08-22T20:35:35.714Z"
      },
      {
        "duration": 17,
        "start_time": "2023-08-22T20:35:36.943Z"
      },
      {
        "duration": 27,
        "start_time": "2023-08-22T20:35:37.539Z"
      },
      {
        "duration": 35,
        "start_time": "2023-08-22T20:35:38.904Z"
      },
      {
        "duration": 10,
        "start_time": "2023-08-22T20:35:39.522Z"
      },
      {
        "duration": 23,
        "start_time": "2023-08-22T20:35:41.489Z"
      },
      {
        "duration": 7,
        "start_time": "2023-08-22T20:35:44.957Z"
      },
      {
        "duration": 22,
        "start_time": "2023-08-22T20:36:35.506Z"
      },
      {
        "duration": 1521,
        "start_time": "2023-08-22T20:37:04.122Z"
      },
      {
        "duration": 1455,
        "start_time": "2023-08-22T20:37:39.967Z"
      },
      {
        "duration": 11,
        "start_time": "2023-08-22T20:41:21.407Z"
      },
      {
        "duration": 32,
        "start_time": "2023-08-22T20:41:25.247Z"
      },
      {
        "duration": 1656,
        "start_time": "2023-08-22T20:42:28.502Z"
      },
      {
        "duration": 1606,
        "start_time": "2023-08-22T20:44:54.976Z"
      },
      {
        "duration": 3763,
        "start_time": "2023-08-22T20:45:15.941Z"
      },
      {
        "duration": 2167,
        "start_time": "2023-08-22T20:55:07.468Z"
      },
      {
        "duration": 8,
        "start_time": "2023-08-22T20:55:09.639Z"
      },
      {
        "duration": 24,
        "start_time": "2023-08-22T20:55:09.649Z"
      },
      {
        "duration": 22,
        "start_time": "2023-08-22T20:55:09.675Z"
      },
      {
        "duration": 6,
        "start_time": "2023-08-22T20:55:09.699Z"
      },
      {
        "duration": 133,
        "start_time": "2023-08-22T20:55:09.707Z"
      },
      {
        "duration": 15,
        "start_time": "2023-08-22T20:55:09.842Z"
      },
      {
        "duration": 9,
        "start_time": "2023-08-22T20:55:09.859Z"
      },
      {
        "duration": 173,
        "start_time": "2023-08-22T20:55:09.871Z"
      },
      {
        "duration": 44,
        "start_time": "2023-08-22T20:55:10.046Z"
      },
      {
        "duration": 5,
        "start_time": "2023-08-22T20:55:10.091Z"
      },
      {
        "duration": 15,
        "start_time": "2023-08-22T20:55:10.098Z"
      },
      {
        "duration": 26,
        "start_time": "2023-08-22T20:55:10.114Z"
      },
      {
        "duration": 15,
        "start_time": "2023-08-22T20:55:10.142Z"
      },
      {
        "duration": 461,
        "start_time": "2023-08-22T20:55:10.158Z"
      },
      {
        "duration": 383,
        "start_time": "2023-08-22T20:55:10.621Z"
      },
      {
        "duration": 5,
        "start_time": "2023-08-22T20:55:11.006Z"
      },
      {
        "duration": 15,
        "start_time": "2023-08-22T20:55:11.013Z"
      },
      {
        "duration": 24,
        "start_time": "2023-08-22T20:55:11.029Z"
      },
      {
        "duration": 10,
        "start_time": "2023-08-22T20:55:11.054Z"
      },
      {
        "duration": 13,
        "start_time": "2023-08-22T20:55:11.065Z"
      },
      {
        "duration": 12,
        "start_time": "2023-08-22T20:55:11.079Z"
      },
      {
        "duration": 10,
        "start_time": "2023-08-22T20:55:11.092Z"
      },
      {
        "duration": 14,
        "start_time": "2023-08-22T20:55:11.103Z"
      },
      {
        "duration": 195,
        "start_time": "2023-08-22T20:55:11.119Z"
      },
      {
        "duration": 5,
        "start_time": "2023-08-22T20:55:11.316Z"
      },
      {
        "duration": 7,
        "start_time": "2023-08-22T20:55:11.323Z"
      },
      {
        "duration": 16,
        "start_time": "2023-08-22T20:55:11.350Z"
      },
      {
        "duration": 19,
        "start_time": "2023-08-22T20:55:11.368Z"
      },
      {
        "duration": 25,
        "start_time": "2023-08-22T20:55:11.388Z"
      },
      {
        "duration": 8,
        "start_time": "2023-08-22T20:55:11.417Z"
      },
      {
        "duration": 30,
        "start_time": "2023-08-22T20:55:11.427Z"
      },
      {
        "duration": 10,
        "start_time": "2023-08-22T20:55:11.459Z"
      },
      {
        "duration": 10,
        "start_time": "2023-08-22T20:55:11.471Z"
      },
      {
        "duration": 14,
        "start_time": "2023-08-22T20:55:11.483Z"
      },
      {
        "duration": 13,
        "start_time": "2023-08-22T20:55:11.499Z"
      },
      {
        "duration": 45,
        "start_time": "2023-08-22T20:55:11.515Z"
      },
      {
        "duration": 42,
        "start_time": "2023-08-22T20:55:11.562Z"
      },
      {
        "duration": 18,
        "start_time": "2023-08-22T20:55:11.606Z"
      },
      {
        "duration": 33,
        "start_time": "2023-08-22T20:55:11.628Z"
      },
      {
        "duration": 25,
        "start_time": "2023-08-22T20:55:11.666Z"
      },
      {
        "duration": 66,
        "start_time": "2023-08-22T20:55:11.693Z"
      },
      {
        "duration": 11,
        "start_time": "2023-08-22T20:55:11.761Z"
      },
      {
        "duration": 33,
        "start_time": "2023-08-22T20:55:11.775Z"
      },
      {
        "duration": 12,
        "start_time": "2023-08-22T20:55:11.809Z"
      },
      {
        "duration": 53,
        "start_time": "2023-08-22T20:55:11.823Z"
      },
      {
        "duration": 3851,
        "start_time": "2023-08-22T20:55:11.878Z"
      },
      {
        "duration": 21,
        "start_time": "2023-08-22T20:55:15.731Z"
      },
      {
        "duration": 10,
        "start_time": "2023-08-22T20:55:15.754Z"
      },
      {
        "duration": 1935,
        "start_time": "2023-08-22T20:55:15.765Z"
      },
      {
        "duration": 25,
        "start_time": "2023-08-22T20:55:17.702Z"
      },
      {
        "duration": 86,
        "start_time": "2023-08-22T20:55:17.729Z"
      },
      {
        "duration": 7,
        "start_time": "2023-08-22T20:55:17.817Z"
      },
      {
        "duration": 39,
        "start_time": "2023-08-22T20:55:17.825Z"
      },
      {
        "duration": 33,
        "start_time": "2023-08-22T20:55:17.866Z"
      },
      {
        "duration": 20,
        "start_time": "2023-08-22T20:55:17.901Z"
      },
      {
        "duration": 74,
        "start_time": "2023-08-22T20:55:17.924Z"
      },
      {
        "duration": 60,
        "start_time": "2023-08-22T20:55:18.000Z"
      },
      {
        "duration": 163,
        "start_time": "2023-08-22T20:55:18.062Z"
      },
      {
        "duration": 242546,
        "start_time": "2023-08-22T20:55:18.226Z"
      },
      {
        "duration": 114799,
        "start_time": "2023-08-22T21:00:41.851Z"
      },
      {
        "duration": 2680,
        "start_time": "2023-08-22T21:03:45.527Z"
      },
      {
        "duration": 1471,
        "start_time": "2023-08-22T21:03:48.211Z"
      },
      {
        "duration": 4,
        "start_time": "2023-08-22T21:03:49.684Z"
      },
      {
        "duration": 27,
        "start_time": "2023-08-22T21:03:49.689Z"
      },
      {
        "duration": 44,
        "start_time": "2023-08-22T21:03:49.719Z"
      },
      {
        "duration": 50,
        "start_time": "2023-08-22T21:03:49.765Z"
      },
      {
        "duration": 19,
        "start_time": "2023-08-22T21:03:49.818Z"
      },
      {
        "duration": 15,
        "start_time": "2023-08-22T21:03:49.839Z"
      },
      {
        "duration": 164,
        "start_time": "2023-08-22T21:03:49.856Z"
      },
      {
        "duration": 50,
        "start_time": "2023-08-22T21:03:50.021Z"
      },
      {
        "duration": 3,
        "start_time": "2023-08-22T21:03:50.073Z"
      },
      {
        "duration": 43,
        "start_time": "2023-08-22T21:03:50.078Z"
      },
      {
        "duration": 35,
        "start_time": "2023-08-22T21:03:50.122Z"
      },
      {
        "duration": 34,
        "start_time": "2023-08-22T21:03:50.160Z"
      },
      {
        "duration": 390,
        "start_time": "2023-08-22T21:03:50.196Z"
      },
      {
        "duration": 352,
        "start_time": "2023-08-22T21:03:50.588Z"
      },
      {
        "duration": 11,
        "start_time": "2023-08-22T21:03:50.942Z"
      },
      {
        "duration": 25,
        "start_time": "2023-08-22T21:03:50.955Z"
      },
      {
        "duration": 40,
        "start_time": "2023-08-22T21:03:50.982Z"
      },
      {
        "duration": 45,
        "start_time": "2023-08-22T21:03:51.025Z"
      },
      {
        "duration": 42,
        "start_time": "2023-08-22T21:03:51.072Z"
      },
      {
        "duration": 19,
        "start_time": "2023-08-22T21:03:51.116Z"
      },
      {
        "duration": 48,
        "start_time": "2023-08-22T21:03:51.137Z"
      },
      {
        "duration": 46,
        "start_time": "2023-08-22T21:03:51.187Z"
      },
      {
        "duration": 252,
        "start_time": "2023-08-22T21:03:51.235Z"
      },
      {
        "duration": 4,
        "start_time": "2023-08-22T21:03:51.489Z"
      },
      {
        "duration": 18,
        "start_time": "2023-08-22T21:03:51.495Z"
      },
      {
        "duration": 32,
        "start_time": "2023-08-22T21:03:51.514Z"
      },
      {
        "duration": 31,
        "start_time": "2023-08-22T21:03:51.549Z"
      },
      {
        "duration": 32,
        "start_time": "2023-08-22T21:03:51.581Z"
      },
      {
        "duration": 27,
        "start_time": "2023-08-22T21:03:51.614Z"
      },
      {
        "duration": 35,
        "start_time": "2023-08-22T21:03:51.642Z"
      },
      {
        "duration": 32,
        "start_time": "2023-08-22T21:03:51.679Z"
      },
      {
        "duration": 23,
        "start_time": "2023-08-22T21:03:51.713Z"
      },
      {
        "duration": 27,
        "start_time": "2023-08-22T21:03:51.738Z"
      },
      {
        "duration": 27,
        "start_time": "2023-08-22T21:03:51.766Z"
      },
      {
        "duration": 35,
        "start_time": "2023-08-22T21:03:51.794Z"
      },
      {
        "duration": 63,
        "start_time": "2023-08-22T21:03:51.831Z"
      },
      {
        "duration": 15,
        "start_time": "2023-08-22T21:03:51.896Z"
      },
      {
        "duration": 32,
        "start_time": "2023-08-22T21:03:51.914Z"
      },
      {
        "duration": 33,
        "start_time": "2023-08-22T21:03:51.951Z"
      },
      {
        "duration": 68,
        "start_time": "2023-08-22T21:03:51.986Z"
      },
      {
        "duration": 10,
        "start_time": "2023-08-22T21:03:52.056Z"
      },
      {
        "duration": 16,
        "start_time": "2023-08-22T21:03:52.068Z"
      },
      {
        "duration": 12,
        "start_time": "2023-08-22T21:03:52.087Z"
      },
      {
        "duration": 20,
        "start_time": "2023-08-22T21:03:52.101Z"
      },
      {
        "duration": 3939,
        "start_time": "2023-08-22T21:03:52.150Z"
      },
      {
        "duration": 17,
        "start_time": "2023-08-22T21:03:56.091Z"
      },
      {
        "duration": 3,
        "start_time": "2023-08-22T21:03:56.110Z"
      },
      {
        "duration": 1528,
        "start_time": "2023-08-22T21:03:56.114Z"
      },
      {
        "duration": 17,
        "start_time": "2023-08-22T21:03:57.650Z"
      },
      {
        "duration": 40,
        "start_time": "2023-08-22T21:03:57.669Z"
      },
      {
        "duration": 5,
        "start_time": "2023-08-22T21:03:57.712Z"
      },
      {
        "duration": 43,
        "start_time": "2023-08-22T21:03:57.718Z"
      },
      {
        "duration": 3,
        "start_time": "2023-08-22T21:03:57.763Z"
      },
      {
        "duration": 19,
        "start_time": "2023-08-22T21:03:57.767Z"
      },
      {
        "duration": 49,
        "start_time": "2023-08-22T21:03:57.788Z"
      },
      {
        "duration": 64,
        "start_time": "2023-08-22T21:03:57.840Z"
      },
      {
        "duration": 175,
        "start_time": "2023-08-22T21:03:57.906Z"
      },
      {
        "duration": 245983,
        "start_time": "2023-08-22T21:03:58.083Z"
      },
      {
        "duration": 85595,
        "start_time": "2023-08-22T21:08:04.068Z"
      },
      {
        "duration": 50100,
        "start_time": "2023-08-22T21:09:29.665Z"
      },
      {
        "duration": 125,
        "start_time": "2023-08-22T21:10:19.767Z"
      },
      {
        "duration": 0,
        "start_time": "2023-08-22T21:10:19.894Z"
      },
      {
        "duration": 0,
        "start_time": "2023-08-22T21:10:19.896Z"
      },
      {
        "duration": 0,
        "start_time": "2023-08-22T21:10:19.897Z"
      },
      {
        "duration": 0,
        "start_time": "2023-08-22T21:10:19.898Z"
      },
      {
        "duration": 0,
        "start_time": "2023-08-22T21:10:19.899Z"
      },
      {
        "duration": 19,
        "start_time": "2023-08-22T21:12:17.128Z"
      },
      {
        "duration": 8,
        "start_time": "2023-08-22T21:12:40.004Z"
      },
      {
        "duration": 10,
        "start_time": "2023-08-22T21:13:17.968Z"
      },
      {
        "duration": 88,
        "start_time": "2023-08-22T21:13:59.314Z"
      },
      {
        "duration": 15,
        "start_time": "2023-08-22T21:14:05.130Z"
      },
      {
        "duration": 75,
        "start_time": "2023-08-22T21:14:12.669Z"
      },
      {
        "duration": 28,
        "start_time": "2023-08-22T21:14:22.241Z"
      },
      {
        "duration": 19,
        "start_time": "2023-08-22T21:15:57.379Z"
      },
      {
        "duration": 12,
        "start_time": "2023-08-22T21:16:20.610Z"
      },
      {
        "duration": 14,
        "start_time": "2023-08-22T21:16:47.474Z"
      },
      {
        "duration": 9,
        "start_time": "2023-08-22T21:17:52.007Z"
      },
      {
        "duration": 78,
        "start_time": "2023-08-22T21:18:23.640Z"
      },
      {
        "duration": 104,
        "start_time": "2023-08-22T21:18:31.670Z"
      },
      {
        "duration": 4,
        "start_time": "2023-08-22T21:19:03.305Z"
      },
      {
        "duration": 4,
        "start_time": "2023-08-22T21:19:10.838Z"
      },
      {
        "duration": 8,
        "start_time": "2023-08-22T21:19:53.623Z"
      },
      {
        "duration": 7,
        "start_time": "2023-08-22T21:20:07.995Z"
      },
      {
        "duration": 156,
        "start_time": "2023-08-22T21:24:30.105Z"
      },
      {
        "duration": 2168,
        "start_time": "2023-08-23T16:47:38.546Z"
      },
      {
        "duration": 1309,
        "start_time": "2023-08-23T16:47:40.716Z"
      },
      {
        "duration": 3,
        "start_time": "2023-08-23T16:47:42.028Z"
      },
      {
        "duration": 10,
        "start_time": "2023-08-23T16:47:42.035Z"
      },
      {
        "duration": 6,
        "start_time": "2023-08-23T16:47:42.047Z"
      },
      {
        "duration": 22,
        "start_time": "2023-08-23T16:47:42.054Z"
      },
      {
        "duration": 24,
        "start_time": "2023-08-23T16:47:42.078Z"
      },
      {
        "duration": 8,
        "start_time": "2023-08-23T16:47:42.104Z"
      },
      {
        "duration": 131,
        "start_time": "2023-08-23T16:47:42.113Z"
      },
      {
        "duration": 43,
        "start_time": "2023-08-23T16:47:42.246Z"
      },
      {
        "duration": 3,
        "start_time": "2023-08-23T16:47:42.291Z"
      },
      {
        "duration": 10,
        "start_time": "2023-08-23T16:47:42.296Z"
      },
      {
        "duration": 29,
        "start_time": "2023-08-23T16:47:42.308Z"
      },
      {
        "duration": 10,
        "start_time": "2023-08-23T16:47:42.339Z"
      },
      {
        "duration": 342,
        "start_time": "2023-08-23T16:47:42.351Z"
      },
      {
        "duration": 388,
        "start_time": "2023-08-23T16:47:42.695Z"
      },
      {
        "duration": 3,
        "start_time": "2023-08-23T16:47:43.085Z"
      },
      {
        "duration": 13,
        "start_time": "2023-08-23T16:47:43.089Z"
      },
      {
        "duration": 24,
        "start_time": "2023-08-23T16:47:43.103Z"
      },
      {
        "duration": 7,
        "start_time": "2023-08-23T16:47:43.133Z"
      },
      {
        "duration": 13,
        "start_time": "2023-08-23T16:47:43.142Z"
      },
      {
        "duration": 5,
        "start_time": "2023-08-23T16:47:43.156Z"
      },
      {
        "duration": 12,
        "start_time": "2023-08-23T16:47:43.162Z"
      },
      {
        "duration": 14,
        "start_time": "2023-08-23T16:47:43.175Z"
      },
      {
        "duration": 252,
        "start_time": "2023-08-23T16:47:43.190Z"
      },
      {
        "duration": 3,
        "start_time": "2023-08-23T16:47:43.444Z"
      },
      {
        "duration": 41,
        "start_time": "2023-08-23T16:47:43.449Z"
      },
      {
        "duration": 11,
        "start_time": "2023-08-23T16:47:43.493Z"
      },
      {
        "duration": 19,
        "start_time": "2023-08-23T16:47:43.505Z"
      },
      {
        "duration": 19,
        "start_time": "2023-08-23T16:47:43.525Z"
      },
      {
        "duration": 15,
        "start_time": "2023-08-23T16:47:43.545Z"
      },
      {
        "duration": 12,
        "start_time": "2023-08-23T16:47:43.561Z"
      },
      {
        "duration": 11,
        "start_time": "2023-08-23T16:47:43.574Z"
      },
      {
        "duration": 8,
        "start_time": "2023-08-23T16:47:43.586Z"
      },
      {
        "duration": 8,
        "start_time": "2023-08-23T16:47:43.596Z"
      },
      {
        "duration": 9,
        "start_time": "2023-08-23T16:47:43.605Z"
      },
      {
        "duration": 27,
        "start_time": "2023-08-23T16:47:43.615Z"
      },
      {
        "duration": 28,
        "start_time": "2023-08-23T16:47:43.643Z"
      },
      {
        "duration": 11,
        "start_time": "2023-08-23T16:47:43.672Z"
      },
      {
        "duration": 18,
        "start_time": "2023-08-23T16:47:43.685Z"
      },
      {
        "duration": 34,
        "start_time": "2023-08-23T16:47:43.705Z"
      },
      {
        "duration": 27,
        "start_time": "2023-08-23T16:47:43.741Z"
      },
      {
        "duration": 7,
        "start_time": "2023-08-23T16:47:43.770Z"
      },
      {
        "duration": 19,
        "start_time": "2023-08-23T16:47:43.778Z"
      },
      {
        "duration": 9,
        "start_time": "2023-08-23T16:47:43.799Z"
      },
      {
        "duration": 43,
        "start_time": "2023-08-23T16:47:43.809Z"
      },
      {
        "duration": 3628,
        "start_time": "2023-08-23T16:47:43.854Z"
      },
      {
        "duration": 10,
        "start_time": "2023-08-23T16:47:47.484Z"
      },
      {
        "duration": 9,
        "start_time": "2023-08-23T16:47:47.496Z"
      },
      {
        "duration": 1389,
        "start_time": "2023-08-23T16:47:47.506Z"
      },
      {
        "duration": 17,
        "start_time": "2023-08-23T16:47:48.896Z"
      },
      {
        "duration": 59,
        "start_time": "2023-08-23T16:47:48.915Z"
      },
      {
        "duration": 4,
        "start_time": "2023-08-23T16:47:48.976Z"
      },
      {
        "duration": 22,
        "start_time": "2023-08-23T16:47:48.981Z"
      },
      {
        "duration": 7,
        "start_time": "2023-08-23T16:47:49.004Z"
      },
      {
        "duration": 10,
        "start_time": "2023-08-23T16:47:49.012Z"
      },
      {
        "duration": 131,
        "start_time": "2023-08-23T16:47:49.024Z"
      },
      {
        "duration": 0,
        "start_time": "2023-08-23T16:47:49.156Z"
      },
      {
        "duration": 0,
        "start_time": "2023-08-23T16:47:49.157Z"
      },
      {
        "duration": 0,
        "start_time": "2023-08-23T16:47:49.159Z"
      },
      {
        "duration": 0,
        "start_time": "2023-08-23T16:47:49.159Z"
      },
      {
        "duration": 0,
        "start_time": "2023-08-23T16:47:49.161Z"
      },
      {
        "duration": 0,
        "start_time": "2023-08-23T16:47:49.162Z"
      },
      {
        "duration": 0,
        "start_time": "2023-08-23T16:47:49.163Z"
      },
      {
        "duration": 0,
        "start_time": "2023-08-23T16:47:49.164Z"
      },
      {
        "duration": 0,
        "start_time": "2023-08-23T16:47:49.165Z"
      },
      {
        "duration": 0,
        "start_time": "2023-08-23T16:47:49.166Z"
      },
      {
        "duration": 0,
        "start_time": "2023-08-23T16:47:49.167Z"
      },
      {
        "duration": 2073,
        "start_time": "2023-08-23T16:49:23.053Z"
      },
      {
        "duration": 2649,
        "start_time": "2023-08-23T16:49:25.128Z"
      },
      {
        "duration": 1199,
        "start_time": "2023-08-23T16:49:27.779Z"
      },
      {
        "duration": 3,
        "start_time": "2023-08-23T16:49:28.980Z"
      },
      {
        "duration": 53,
        "start_time": "2023-08-23T16:49:28.984Z"
      },
      {
        "duration": 8,
        "start_time": "2023-08-23T16:49:29.038Z"
      },
      {
        "duration": 35,
        "start_time": "2023-08-23T16:49:29.048Z"
      },
      {
        "duration": 29,
        "start_time": "2023-08-23T16:49:29.085Z"
      },
      {
        "duration": 13,
        "start_time": "2023-08-23T16:49:29.115Z"
      },
      {
        "duration": 138,
        "start_time": "2023-08-23T16:49:29.131Z"
      },
      {
        "duration": 41,
        "start_time": "2023-08-23T16:49:29.270Z"
      },
      {
        "duration": 3,
        "start_time": "2023-08-23T16:49:29.313Z"
      },
      {
        "duration": 14,
        "start_time": "2023-08-23T16:49:29.317Z"
      },
      {
        "duration": 10,
        "start_time": "2023-08-23T16:49:29.333Z"
      },
      {
        "duration": 10,
        "start_time": "2023-08-23T16:49:29.344Z"
      },
      {
        "duration": 336,
        "start_time": "2023-08-23T16:49:29.356Z"
      },
      {
        "duration": 314,
        "start_time": "2023-08-23T16:49:29.693Z"
      },
      {
        "duration": 3,
        "start_time": "2023-08-23T16:49:30.009Z"
      },
      {
        "duration": 30,
        "start_time": "2023-08-23T16:49:30.014Z"
      },
      {
        "duration": 63,
        "start_time": "2023-08-23T16:49:30.046Z"
      },
      {
        "duration": 32,
        "start_time": "2023-08-23T16:49:30.110Z"
      },
      {
        "duration": 46,
        "start_time": "2023-08-23T16:49:30.143Z"
      },
      {
        "duration": 45,
        "start_time": "2023-08-23T16:49:30.190Z"
      },
      {
        "duration": 49,
        "start_time": "2023-08-23T16:49:30.237Z"
      },
      {
        "duration": 63,
        "start_time": "2023-08-23T16:49:30.287Z"
      },
      {
        "duration": 270,
        "start_time": "2023-08-23T16:49:30.352Z"
      },
      {
        "duration": 10,
        "start_time": "2023-08-23T16:49:30.624Z"
      },
      {
        "duration": 24,
        "start_time": "2023-08-23T16:49:30.638Z"
      },
      {
        "duration": 25,
        "start_time": "2023-08-23T16:49:30.664Z"
      },
      {
        "duration": 40,
        "start_time": "2023-08-23T16:49:30.690Z"
      },
      {
        "duration": 53,
        "start_time": "2023-08-23T16:49:30.731Z"
      },
      {
        "duration": 33,
        "start_time": "2023-08-23T16:49:30.786Z"
      },
      {
        "duration": 37,
        "start_time": "2023-08-23T16:49:30.820Z"
      },
      {
        "duration": 34,
        "start_time": "2023-08-23T16:49:30.859Z"
      },
      {
        "duration": 41,
        "start_time": "2023-08-23T16:49:30.895Z"
      },
      {
        "duration": 30,
        "start_time": "2023-08-23T16:49:30.938Z"
      },
      {
        "duration": 46,
        "start_time": "2023-08-23T16:49:30.970Z"
      },
      {
        "duration": 37,
        "start_time": "2023-08-23T16:49:31.018Z"
      },
      {
        "duration": 46,
        "start_time": "2023-08-23T16:49:31.057Z"
      },
      {
        "duration": 66,
        "start_time": "2023-08-23T16:49:31.105Z"
      },
      {
        "duration": 43,
        "start_time": "2023-08-23T16:49:31.173Z"
      },
      {
        "duration": 45,
        "start_time": "2023-08-23T16:49:31.218Z"
      },
      {
        "duration": 39,
        "start_time": "2023-08-23T16:49:31.264Z"
      },
      {
        "duration": 32,
        "start_time": "2023-08-23T16:49:31.305Z"
      },
      {
        "duration": 46,
        "start_time": "2023-08-23T16:49:31.338Z"
      },
      {
        "duration": 54,
        "start_time": "2023-08-23T16:49:31.386Z"
      },
      {
        "duration": 53,
        "start_time": "2023-08-23T16:49:31.441Z"
      },
      {
        "duration": 3804,
        "start_time": "2023-08-23T16:49:31.495Z"
      },
      {
        "duration": 10,
        "start_time": "2023-08-23T16:49:35.301Z"
      },
      {
        "duration": 22,
        "start_time": "2023-08-23T16:49:35.312Z"
      },
      {
        "duration": 1337,
        "start_time": "2023-08-23T16:49:35.335Z"
      },
      {
        "duration": 16,
        "start_time": "2023-08-23T16:49:36.674Z"
      },
      {
        "duration": 59,
        "start_time": "2023-08-23T16:49:36.692Z"
      },
      {
        "duration": 4,
        "start_time": "2023-08-23T16:49:36.753Z"
      },
      {
        "duration": 25,
        "start_time": "2023-08-23T16:49:36.758Z"
      },
      {
        "duration": 6,
        "start_time": "2023-08-23T16:49:36.784Z"
      },
      {
        "duration": 8,
        "start_time": "2023-08-23T16:49:36.791Z"
      },
      {
        "duration": 133,
        "start_time": "2023-08-23T16:49:36.801Z"
      },
      {
        "duration": 0,
        "start_time": "2023-08-23T16:49:36.935Z"
      },
      {
        "duration": 0,
        "start_time": "2023-08-23T16:49:36.937Z"
      },
      {
        "duration": 0,
        "start_time": "2023-08-23T16:49:36.938Z"
      },
      {
        "duration": 0,
        "start_time": "2023-08-23T16:49:36.939Z"
      },
      {
        "duration": 0,
        "start_time": "2023-08-23T16:49:36.940Z"
      },
      {
        "duration": 0,
        "start_time": "2023-08-23T16:49:36.942Z"
      },
      {
        "duration": 0,
        "start_time": "2023-08-23T16:49:36.943Z"
      },
      {
        "duration": 0,
        "start_time": "2023-08-23T16:49:36.945Z"
      },
      {
        "duration": 0,
        "start_time": "2023-08-23T16:49:36.946Z"
      },
      {
        "duration": 0,
        "start_time": "2023-08-23T16:49:36.947Z"
      },
      {
        "duration": 0,
        "start_time": "2023-08-23T16:49:36.948Z"
      },
      {
        "duration": 2354,
        "start_time": "2023-08-23T16:55:33.536Z"
      },
      {
        "duration": 3012,
        "start_time": "2023-08-23T16:55:35.892Z"
      },
      {
        "duration": 1348,
        "start_time": "2023-08-23T16:55:38.906Z"
      },
      {
        "duration": 3,
        "start_time": "2023-08-23T16:55:40.256Z"
      },
      {
        "duration": 17,
        "start_time": "2023-08-23T16:55:40.261Z"
      },
      {
        "duration": 14,
        "start_time": "2023-08-23T16:55:40.280Z"
      },
      {
        "duration": 37,
        "start_time": "2023-08-23T16:55:40.296Z"
      },
      {
        "duration": 34,
        "start_time": "2023-08-23T16:55:40.335Z"
      },
      {
        "duration": 17,
        "start_time": "2023-08-23T16:55:40.371Z"
      },
      {
        "duration": 151,
        "start_time": "2023-08-23T16:55:40.390Z"
      },
      {
        "duration": 60,
        "start_time": "2023-08-23T16:55:40.543Z"
      },
      {
        "duration": 4,
        "start_time": "2023-08-23T16:55:40.605Z"
      },
      {
        "duration": 40,
        "start_time": "2023-08-23T16:55:40.611Z"
      },
      {
        "duration": 10,
        "start_time": "2023-08-23T16:55:40.655Z"
      },
      {
        "duration": 14,
        "start_time": "2023-08-23T16:55:40.667Z"
      },
      {
        "duration": 426,
        "start_time": "2023-08-23T16:55:40.683Z"
      },
      {
        "duration": 377,
        "start_time": "2023-08-23T16:55:41.111Z"
      },
      {
        "duration": 4,
        "start_time": "2023-08-23T16:55:41.491Z"
      },
      {
        "duration": 13,
        "start_time": "2023-08-23T16:55:41.497Z"
      },
      {
        "duration": 26,
        "start_time": "2023-08-23T16:55:41.512Z"
      },
      {
        "duration": 9,
        "start_time": "2023-08-23T16:55:41.540Z"
      },
      {
        "duration": 15,
        "start_time": "2023-08-23T16:55:41.550Z"
      },
      {
        "duration": 10,
        "start_time": "2023-08-23T16:55:41.566Z"
      },
      {
        "duration": 11,
        "start_time": "2023-08-23T16:55:41.578Z"
      },
      {
        "duration": 20,
        "start_time": "2023-08-23T16:55:41.590Z"
      },
      {
        "duration": 279,
        "start_time": "2023-08-23T16:55:41.612Z"
      },
      {
        "duration": 4,
        "start_time": "2023-08-23T16:55:41.893Z"
      },
      {
        "duration": 9,
        "start_time": "2023-08-23T16:55:41.898Z"
      },
      {
        "duration": 34,
        "start_time": "2023-08-23T16:55:41.909Z"
      },
      {
        "duration": 18,
        "start_time": "2023-08-23T16:55:41.946Z"
      },
      {
        "duration": 28,
        "start_time": "2023-08-23T16:55:41.965Z"
      },
      {
        "duration": 15,
        "start_time": "2023-08-23T16:55:41.995Z"
      },
      {
        "duration": 31,
        "start_time": "2023-08-23T16:55:42.012Z"
      },
      {
        "duration": 19,
        "start_time": "2023-08-23T16:55:42.045Z"
      },
      {
        "duration": 15,
        "start_time": "2023-08-23T16:55:42.067Z"
      },
      {
        "duration": 12,
        "start_time": "2023-08-23T16:55:42.083Z"
      },
      {
        "duration": 17,
        "start_time": "2023-08-23T16:55:42.096Z"
      },
      {
        "duration": 31,
        "start_time": "2023-08-23T16:55:42.115Z"
      },
      {
        "duration": 36,
        "start_time": "2023-08-23T16:55:42.148Z"
      },
      {
        "duration": 15,
        "start_time": "2023-08-23T16:55:42.186Z"
      },
      {
        "duration": 27,
        "start_time": "2023-08-23T16:55:42.207Z"
      },
      {
        "duration": 40,
        "start_time": "2023-08-23T16:55:42.236Z"
      },
      {
        "duration": 31,
        "start_time": "2023-08-23T16:55:42.278Z"
      },
      {
        "duration": 11,
        "start_time": "2023-08-23T16:55:42.311Z"
      },
      {
        "duration": 28,
        "start_time": "2023-08-23T16:55:42.324Z"
      },
      {
        "duration": 30,
        "start_time": "2023-08-23T16:55:42.354Z"
      },
      {
        "duration": 22,
        "start_time": "2023-08-23T16:55:42.386Z"
      },
      {
        "duration": 4148,
        "start_time": "2023-08-23T16:55:42.411Z"
      },
      {
        "duration": 22,
        "start_time": "2023-08-23T16:55:46.562Z"
      },
      {
        "duration": 10,
        "start_time": "2023-08-23T16:55:46.586Z"
      },
      {
        "duration": 1457,
        "start_time": "2023-08-23T16:55:46.598Z"
      },
      {
        "duration": 18,
        "start_time": "2023-08-23T16:55:48.057Z"
      },
      {
        "duration": 67,
        "start_time": "2023-08-23T16:55:48.077Z"
      },
      {
        "duration": 5,
        "start_time": "2023-08-23T16:55:48.145Z"
      },
      {
        "duration": 24,
        "start_time": "2023-08-23T16:55:48.152Z"
      },
      {
        "duration": 17,
        "start_time": "2023-08-23T16:55:48.177Z"
      },
      {
        "duration": 12,
        "start_time": "2023-08-23T16:55:48.195Z"
      },
      {
        "duration": 48,
        "start_time": "2023-08-23T16:55:48.208Z"
      },
      {
        "duration": 34,
        "start_time": "2023-08-23T16:55:48.258Z"
      },
      {
        "duration": 141,
        "start_time": "2023-08-23T16:55:48.294Z"
      },
      {
        "duration": 452993,
        "start_time": "2023-08-23T16:55:48.436Z"
      },
      {
        "duration": 132740,
        "start_time": "2023-08-23T17:03:21.430Z"
      },
      {
        "duration": 73277,
        "start_time": "2023-08-23T17:05:34.172Z"
      },
      {
        "duration": 10,
        "start_time": "2023-08-23T17:06:47.450Z"
      },
      {
        "duration": 15,
        "start_time": "2023-08-23T17:06:47.462Z"
      },
      {
        "duration": 297,
        "start_time": "2023-08-23T17:06:47.479Z"
      },
      {
        "duration": 576,
        "start_time": "2023-08-23T17:06:47.778Z"
      },
      {
        "duration": 6,
        "start_time": "2023-08-23T17:06:48.356Z"
      },
      {
        "duration": 300,
        "start_time": "2023-08-23T17:06:48.364Z"
      }
    ],
    "colab": {
      "provenance": [],
      "gpuType": "T4"
    },
    "kernelspec": {
      "display_name": "Python 3",
      "name": "python3"
    },
    "language_info": {
      "codemirror_mode": {
        "name": "ipython",
        "version": 3
      },
      "file_extension": ".py",
      "mimetype": "text/x-python",
      "name": "python",
      "nbconvert_exporter": "python",
      "pygments_lexer": "ipython3",
      "version": "3.11.4"
    },
    "toc": {
      "base_numbering": 1,
      "nav_menu": {},
      "number_sections": true,
      "sideBar": true,
      "skip_h1_title": true,
      "title_cell": "Table of Contents",
      "title_sidebar": "Contents",
      "toc_cell": false,
      "toc_position": {},
      "toc_section_display": true,
      "toc_window_display": false
    },
    "accelerator": "GPU"
  },
  "nbformat": 4,
  "nbformat_minor": 0
}